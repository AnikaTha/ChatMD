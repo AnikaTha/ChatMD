{
 "cells": [
  {
   "cell_type": "code",
   "execution_count": 1,
   "metadata": {},
   "outputs": [
    {
     "name": "stderr",
     "output_type": "stream",
     "text": [
      "c:\\Users\\SC\\AppData\\Local\\Programs\\Python\\Python312\\Lib\\site-packages\\tqdm\\auto.py:21: TqdmWarning: IProgress not found. Please update jupyter and ipywidgets. See https://ipywidgets.readthedocs.io/en/stable/user_install.html\n",
      "  from .autonotebook import tqdm as notebook_tqdm\n"
     ]
    }
   ],
   "source": [
    "from transformers import AutoModelForCausalLM, AutoTokenizer, Trainer, TrainingArguments, DataCollatorWithPadding\n",
    "from datasets import load_dataset\n",
    "import torch\n",
    "import numpy as np"
   ]
  },
  {
   "cell_type": "code",
   "execution_count": 4,
   "metadata": {},
<<<<<<< HEAD
   "outputs": [
    {
     "name": "stderr",
     "output_type": "stream",
     "text": [
      "Special tokens have been added in the vocabulary, make sure the associated word embeddings are fine-tuned or trained.\n"
     ]
    }
   ],
=======
   "outputs": [],
>>>>>>> f3241a6f80687ca7c87438766f4eb17b45928a58
   "source": [
    "checkpoint = 'TinyLlama/TinyLlama-1.1B-Chat-v1.0'\n",
    "\n",
    "model = AutoModelForCausalLM.from_pretrained(checkpoint)\n",
    "tokenizer = AutoTokenizer.from_pretrained(checkpoint)"
   ]
  },
  {
   "cell_type": "code",
   "execution_count": 2,
   "metadata": {},
   "outputs": [],
   "source": [
    "from transformers import pipeline, AutoModel"
   ]
  },
  {
   "cell_type": "code",
   "execution_count": 5,
   "metadata": {},
   "outputs": [
    {
     "name": "stdout",
     "output_type": "stream",
     "text": [
      "using cpu\n"
     ]
    }
   ],
   "source": [
    "device = 'cuda' if torch.cuda.is_available() else 'cpu'\n",
    "model.to(device)\n",
    "print('using', device)"
   ]
  },
  {
   "cell_type": "code",
   "execution_count": 6,
   "metadata": {},
   "outputs": [],
   "source": [
    "from peft import LoraConfig, get_peft_config, get_peft_model, get_peft_model_state_dict, TaskType"
   ]
  },
  {
   "cell_type": "code",
   "execution_count": 8,
   "metadata": {},
   "outputs": [],
   "source": [
    "config = LoraConfig(init_lora_weights='gaussian', task_type=TaskType.CAUSAL_LM)"
   ]
  },
  {
   "cell_type": "code",
   "execution_count": 9,
   "metadata": {},
   "outputs": [],
   "source": [
    "peft_model = get_peft_model(model, config)"
   ]
  },
  {
   "cell_type": "code",
   "execution_count": 29,
   "metadata": {},
   "outputs": [
    {
<<<<<<< HEAD
     "data": {
      "text/plain": [
       "PeftModelForCausalLM(\n",
       "  (base_model): LoraModel(\n",
       "    (model): LlamaForCausalLM(\n",
       "      (model): LlamaModel(\n",
       "        (embed_tokens): Embedding(32000, 2048)\n",
       "        (layers): ModuleList(\n",
       "          (0-21): 22 x LlamaDecoderLayer(\n",
       "            (self_attn): LlamaAttention(\n",
       "              (q_proj): Linear(\n",
       "                in_features=2048, out_features=2048, bias=False\n",
       "                (lora_dropout): ModuleDict(\n",
       "                  (default): Identity()\n",
       "                )\n",
       "                (lora_A): ModuleDict(\n",
       "                  (default): Linear(in_features=2048, out_features=8, bias=False)\n",
       "                )\n",
       "                (lora_B): ModuleDict(\n",
       "                  (default): Linear(in_features=8, out_features=2048, bias=False)\n",
       "                )\n",
       "                (lora_embedding_A): ParameterDict()\n",
       "                (lora_embedding_B): ParameterDict()\n",
       "              )\n",
       "              (k_proj): Linear(in_features=2048, out_features=256, bias=False)\n",
       "              (v_proj): Linear(\n",
       "                in_features=2048, out_features=256, bias=False\n",
       "                (lora_dropout): ModuleDict(\n",
       "                  (default): Identity()\n",
       "                )\n",
       "                (lora_A): ModuleDict(\n",
       "                  (default): Linear(in_features=2048, out_features=8, bias=False)\n",
       "                )\n",
       "                (lora_B): ModuleDict(\n",
       "                  (default): Linear(in_features=8, out_features=256, bias=False)\n",
       "                )\n",
       "                (lora_embedding_A): ParameterDict()\n",
       "                (lora_embedding_B): ParameterDict()\n",
       "              )\n",
       "              (o_proj): Linear(in_features=2048, out_features=2048, bias=False)\n",
       "              (rotary_emb): LlamaRotaryEmbedding()\n",
       "            )\n",
       "            (mlp): LlamaMLP(\n",
       "              (gate_proj): Linear(in_features=2048, out_features=5632, bias=False)\n",
       "              (up_proj): Linear(in_features=2048, out_features=5632, bias=False)\n",
       "              (down_proj): Linear(in_features=5632, out_features=2048, bias=False)\n",
       "              (act_fn): SiLUActivation()\n",
       "            )\n",
       "            (input_layernorm): LlamaRMSNorm()\n",
       "            (post_attention_layernorm): LlamaRMSNorm()\n",
       "          )\n",
       "        )\n",
       "        (norm): LlamaRMSNorm()\n",
       "      )\n",
       "      (lm_head): Linear(in_features=2048, out_features=32000, bias=False)\n",
       "    )\n",
       "  )\n",
       ")"
      ]
     },
     "execution_count": 29,
     "metadata": {},
     "output_type": "execute_result"
    }
   ],
   "source": [
    "peft_model.to(device)"
   ]
  },
  {
   "cell_type": "code",
   "execution_count": 10,
   "metadata": {},
   "outputs": [
    {
     "name": "stdout",
     "output_type": "stream",
     "text": [
      "trainable params: 1,126,400 || all params: 1,101,174,784 || trainable%: 0.10229075496156657\n"
     ]
    }
   ],
   "source": [
    "peft_model.print_trainable_parameters()"
   ]
  },
  {
   "cell_type": "code",
   "execution_count": 11,
   "metadata": {},
   "outputs": [],
   "source": [
    "medqa_train = load_dataset('json', data_files='Data/MedQA/data_clean/questions/US/train.jsonl')"
   ]
  },
  {
   "cell_type": "code",
   "execution_count": 10,
   "metadata": {},
   "outputs": [
    {
     "data": {
      "text/plain": [
       "DatasetDict({\n",
       "    train: Dataset({\n",
       "        features: ['question', 'answer', 'options', 'meta_info', 'answer_idx'],\n",
       "        num_rows: 10178\n",
       "    })\n",
       "})"
      ]
     },
     "execution_count": 10,
     "metadata": {},
     "output_type": "execute_result"
    }
   ],
   "source": [
    "medqa_train"
=======
     "name": "stderr",
     "output_type": "stream",
     "text": [
      "Loading checkpoint shards: 100%|██████████| 3/3 [01:11<00:00, 23.74s/it]\n",
      "You are using the default legacy behaviour of the <class 'transformers.models.llama.tokenization_llama.LlamaTokenizer'>. This is expected, and simply means that the `legacy` (previous) behavior will be used so nothing changes for you. If you want to use the new behaviour, set `legacy=False`. This should only be set if you understand what it means, and thoroughly read the reason why this was added as explained in https://github.com/huggingface/transformers/pull/24565\n"
     ]
    }
   ],
   "source": [
    "# mod_pipeline = pipeline(\n",
    "#     'text-generation', model=model, tokenizer=tokenizer\n",
    "# )\n",
    "\n",
    "med_pipeline = pipeline(\n",
    "    'text-generation', model='medalpaca/medalpaca-7b', tokenizer='medalpaca/medalpaca-7b', max_length=500\n",
    ")"
>>>>>>> f3241a6f80687ca7c87438766f4eb17b45928a58
   ]
  },
  {
   "cell_type": "code",
   "execution_count": 6,
   "metadata": {},
   "outputs": [
    {
     "ename": "NameError",
     "evalue": "name 'mod_pipeline' is not defined",
     "output_type": "error",
     "traceback": [
      "\u001b[1;31m---------------------------------------------------------------------------\u001b[0m",
      "\u001b[1;31mNameError\u001b[0m                                 Traceback (most recent call last)",
      "Cell \u001b[1;32mIn[6], line 7\u001b[0m\n\u001b[0;32m      1\u001b[0m sample_prompt \u001b[38;5;241m=\u001b[39m \u001b[38;5;124m\"\"\"\u001b[39m\u001b[38;5;124mAnswer the question using the context below.\u001b[39m\n\u001b[0;32m      2\u001b[0m \u001b[38;5;124mContext: Gazpacho is a cold soup and drink made of raw, blended vegetables. Most gazpacho includes stale bread, tomato, cucumbers, onion, bell peppers, garlic, olive oil, wine vinegar, water, and salt. Northern recipes often include cumin and/or pimentón (smoked sweet paprika). Traditionally, gazpacho was made by pounding the vegetables in a mortar with a pestle; this more laborious method is still sometimes used as it helps keep the gazpacho cool and avoids the foam and silky consistency of smoothie versions made in blenders or food processors.\u001b[39m\n\u001b[0;32m      3\u001b[0m \u001b[38;5;124mQuestion: What modern tool is used to make gazpacho?\u001b[39m\n\u001b[0;32m      4\u001b[0m \u001b[38;5;124mAnswer:\u001b[39m\n\u001b[0;32m      5\u001b[0m \u001b[38;5;124m\"\"\"\u001b[39m\n\u001b[1;32m----> 7\u001b[0m sample_output \u001b[38;5;241m=\u001b[39m \u001b[43mmod_pipeline\u001b[49m(sample_prompt)\n",
      "\u001b[1;31mNameError\u001b[0m: name 'mod_pipeline' is not defined"
     ]
    }
   ],
   "source": [
    "def tokenize_function(data):\n",
    "    questions = data['question']\n",
    "    answers = data['answers']\n",
    "\n",
    "\n",
    "max_length = 512\n",
    "def preprocess_function(examples):\n",
    "    batch_size = len(examples['question'])\n",
    "    targets = [str(x) for x in examples['answer']]\n",
    "    model_inputs = tokenizer(examples['question'])\n",
    "    labels = tokenizer(targets, add_special_tokens=False)  # don't add bos token because we concatenate with inputs\n",
    "    for i in range(batch_size):\n",
    "        sample_input_ids = model_inputs[\"input_ids\"][i]\n",
    "        label_input_ids = labels[\"input_ids\"][i] + [tokenizer.eos_token_id]\n",
    "        # print(i, sample_input_ids, label_input_ids)\n",
    "        model_inputs[\"input_ids\"][i] = sample_input_ids + label_input_ids\n",
    "        labels[\"input_ids\"][i] = [-100] * len(sample_input_ids) + label_input_ids\n",
    "        model_inputs[\"attention_mask\"][i] = [1] * len(model_inputs[\"input_ids\"][i])\n",
    "    # print(model_inputs)\n",
    "    for i in range(batch_size):\n",
    "        sample_input_ids = model_inputs[\"input_ids\"][i]\n",
    "        label_input_ids = labels[\"input_ids\"][i]\n",
    "        model_inputs[\"input_ids\"][i] = [tokenizer.pad_token_id] * (\n",
    "            max_length - len(sample_input_ids)\n",
    "        ) + sample_input_ids\n",
    "        model_inputs[\"attention_mask\"][i] = [0] * (max_length - len(sample_input_ids)) + model_inputs[\n",
    "            \"attention_mask\"\n",
    "        ][i]\n",
    "        labels[\"input_ids\"][i] = [-100] * (max_length - len(sample_input_ids)) + label_input_ids\n",
    "        model_inputs[\"input_ids\"][i] = model_inputs[\"input_ids\"][i][:max_length]\n",
    "        model_inputs[\"attention_mask\"][i] = model_inputs[\"attention_mask\"][i][:max_length]\n",
    "        labels[\"input_ids\"][i] = labels[\"input_ids\"][i][:max_length]\n",
    "    model_inputs[\"labels\"] = labels[\"input_ids\"]\n",
    "    return model_inputs"
   ]
  },
  {
   "cell_type": "code",
<<<<<<< HEAD
   "execution_count": 23,
=======
   "execution_count": 7,
>>>>>>> f3241a6f80687ca7c87438766f4eb17b45928a58
   "metadata": {},
   "outputs": [
    {
     "data": {
      "text/plain": [
<<<<<<< HEAD
       "['question', 'answer', 'options', 'meta_info', 'answer_idx']"
      ]
     },
     "execution_count": 23,
=======
       "[{'generated_text': 'Answer the question using the context below.\\nContext: A 23-year-old pregnant woman at 22 weeks gestation presents with burning upon urination. She states it started 1 day ago and has been worsening despite drinking more water and taking cranberry extract. She otherwise feels well and is followed by a doctor for her pregnancy. Her temperature is 97.7°F (36.5°C), blood pressure is 122/77 mmHg, pulse is 80/min, respirations are 19/min, and oxygen saturation is 98% on room air. Physical exam is notable for an absence of costovertebral angle tenderness and a gravid uterus.\\nQuestion: Which of the following is the best treatment for this patient? options: {A: Ampicillin, B: Ceftriaxone, C: Ciprofloxacin, D: Doxycycline, E: Nitrofurantoin}\\nAnswer:\\nA'}]"
      ]
     },
     "execution_count": 7,
>>>>>>> f3241a6f80687ca7c87438766f4eb17b45928a58
     "metadata": {},
     "output_type": "execute_result"
    }
   ],
   "source": [
<<<<<<< HEAD
    "medqa_train['train'].column_names"
=======
    "med_prompt = \"\"\"Answer the question using the context below.\n",
    "Context: A 23-year-old pregnant woman at 22 weeks gestation presents with burning upon urination. She states it started 1 day ago and has been worsening despite drinking more water and taking cranberry extract. She otherwise feels well and is followed by a doctor for her pregnancy. Her temperature is 97.7°F (36.5°C), blood pressure is 122/77 mmHg, pulse is 80/min, respirations are 19/min, and oxygen saturation is 98% on room air. Physical exam is notable for an absence of costovertebral angle tenderness and a gravid uterus.\n",
    "Question: Which of the following is the best treatment for this patient? options: {A: Ampicillin, B: Ceftriaxone, C: Ciprofloxacin, D: Doxycycline, E: Nitrofurantoin}\n",
    "Answer:\n",
    "\"\"\"\n",
    "med_output = med_pipeline(med_prompt)\n",
    "med_output\n"
>>>>>>> f3241a6f80687ca7c87438766f4eb17b45928a58
   ]
  },
  {
   "cell_type": "code",
<<<<<<< HEAD
   "execution_count": 24,
=======
   "execution_count": 9,
   "metadata": {},
   "outputs": [
    {
     "data": {
      "text/plain": [
       "[{'generated_text': 'Answer the question using the context below.\\nContext: A 3-month-old baby died suddenly at night while asleep. His mother noticed that he had died only after she awoke in the morning. No cause of death was determined based on the autopsy.\\nQuestion: Which of the following precautions could have prevented the death of the baby? Options: {A: Placing the infant in a supine position on a firm mattress while sleeping, B: Routine postnatal electrocardiogram (ECG), C: Keeping the infant covered and maintaining a high room temperature, D: Application of a device to maintain the sleeping position, E: Avoiding pacifier use during sleep}\\nAnswer:\\nA'}]"
      ]
     },
     "execution_count": 9,
     "metadata": {},
     "output_type": "execute_result"
    }
   ],
   "source": [
    "response1 = \"\"\"Answer the question using the context below.\n",
    "Context: A 3-month-old baby died suddenly at night while asleep. His mother noticed that he had died only after she awoke in the morning. No cause of death was determined based on the autopsy.\n",
    "Question: Which of the following precautions could have prevented the death of the baby? Options: {A: Placing the infant in a supine position on a firm mattress while sleeping, B: Routine postnatal electrocardiogram (ECG), C: Keeping the infant covered and maintaining a high room temperature, D: Application of a device to maintain the sleeping position, E: Avoiding pacifier use during sleep}\n",
    "Answer:\n",
    "\"\"\"\n",
    "\n",
    "med_output2 = med_pipeline(response1)\n",
    "med_output2"
   ]
  },
  {
   "cell_type": "code",
   "execution_count": 10,
   "metadata": {},
   "outputs": [
    {
     "data": {
      "text/plain": [
       "[{'generated_text': \"Answer the question using the context below.\\nContext: A mother brings her 3-week-old infant to the pediatrician's office because she is concerned about his feeding habits. He was born without complications and has not had any medical problems up until this time. However, for the past 4 days, he has been fussy, is regurgitating all of his feeds, and his vomit is yellow in color. On physical exam, the child's abdomen is minimally distended but no other abnormalities are appreciated.\\nQuestion: Which of the following embryologic errors could account for this presentation? Options: {A: Abnormal migration of ventral pancreatic bud, B: Complete failure of proximal duodenum to recanalize, C: Error in neural crest cell migration, D: Abnormal hypertrophy of the pylorus, E: Failure of lateral body folds to move ventrally and fuse in the midline}\\nAnswer:\\nC\"}]"
      ]
     },
     "execution_count": 10,
     "metadata": {},
     "output_type": "execute_result"
    }
   ],
   "source": [
    "response2 = \"\"\"Answer the question using the context below.\n",
    "Context: A mother brings her 3-week-old infant to the pediatrician's office because she is concerned about his feeding habits. He was born without complications and has not had any medical problems up until this time. However, for the past 4 days, he has been fussy, is regurgitating all of his feeds, and his vomit is yellow in color. On physical exam, the child's abdomen is minimally distended but no other abnormalities are appreciated.\n",
    "Question: Which of the following embryologic errors could account for this presentation? Options: {A: Abnormal migration of ventral pancreatic bud, B: Complete failure of proximal duodenum to recanalize, C: Error in neural crest cell migration, D: Abnormal hypertrophy of the pylorus, E: Failure of lateral body folds to move ventrally and fuse in the midline}\n",
    "Answer:\n",
    "\"\"\"\n",
    "med_output3 = med_pipeline(response2)\n",
    "med_output3"
   ]
  },
  {
   "cell_type": "code",
   "execution_count": 11,
   "metadata": {},
   "outputs": [
    {
     "data": {
      "text/plain": [
       "[{'generated_text': 'Answer the question using the context below.\\nContext: A pulmonary autopsy specimen from a 58-year-old woman who died of acute hypoxic respiratory failure was examined. She had recently undergone surgery for a fractured femur 3 months ago. Initial hospital course was uncomplicated, and she was discharged to a rehab facility in good health. Shortly after discharge home from rehab, she developed sudden shortness of breath and had cardiac arrest. Resuscitation was unsuccessful. On histological examination of lung tissue, fibrous connective tissue around the lumen of the pulmonary artery is observed.\\nQuestion: Which of the following is the most likely pathogenesis for the present findings? Options: {A: Thromboembolism, B: Pulmonary ischemia, C: Pulmonary hypertension, D: Pulmonary passive congestion, E: Pulmonary hemorrhage}\\nAnswer:\\nA'}]"
      ]
     },
     "execution_count": 11,
     "metadata": {},
     "output_type": "execute_result"
    }
   ],
   "source": [
    "response3 = \"\"\"Answer the question using the context below.\n",
    "Context: A pulmonary autopsy specimen from a 58-year-old woman who died of acute hypoxic respiratory failure was examined. She had recently undergone surgery for a fractured femur 3 months ago. Initial hospital course was uncomplicated, and she was discharged to a rehab facility in good health. Shortly after discharge home from rehab, she developed sudden shortness of breath and had cardiac arrest. Resuscitation was unsuccessful. On histological examination of lung tissue, fibrous connective tissue around the lumen of the pulmonary artery is observed.\n",
    "Question: Which of the following is the most likely pathogenesis for the present findings? Options: {A: Thromboembolism, B: Pulmonary ischemia, C: Pulmonary hypertension, D: Pulmonary passive congestion, E: Pulmonary hemorrhage}\n",
    "Answer:\n",
    "\"\"\"\n",
    "med_output4 = med_pipeline(response3)\n",
    "med_output4"
   ]
  },
  {
   "cell_type": "code",
   "execution_count": 12,
   "metadata": {},
   "outputs": [
    {
     "data": {
      "text/plain": [
       "[{'generated_text': \"Answer the question using the context below.\\nContext: A 20-year-old woman presents with menorrhagia for the past several years. She says that her menses “have always been heavy”, and she has experienced easy bruising for as long as she can remember. Family history is significant for her mother, who had similar problems with bruising easily. The patient's vital signs include: heart rate 98/min, respiratory rate 14/min, temperature 36.1°C (96.9°F), and blood pressure 110/87 mm Hg. Physical examination is unremarkable. Laboratory tests show the following: platelet count 200,000/mm3, PT 12 seconds, and PTT 43 seconds.\\nQuestion: Which of the following is the most likely cause of this patient’s symptoms? Options: {A: Factor V Leiden, B: Hemophilia A, C: Lupus anticoagulant, D: Protein C deficiency, E: Von Willebrand disease}\\nAnswer:\\nE\"}]"
      ]
     },
     "execution_count": 12,
     "metadata": {},
     "output_type": "execute_result"
    }
   ],
   "source": [
    "response4 = \"\"\"Answer the question using the context below.\n",
    "Context: A 20-year-old woman presents with menorrhagia for the past several years. She says that her menses “have always been heavy”, and she has experienced easy bruising for as long as she can remember. Family history is significant for her mother, who had similar problems with bruising easily. The patient's vital signs include: heart rate 98/min, respiratory rate 14/min, temperature 36.1°C (96.9°F), and blood pressure 110/87 mm Hg. Physical examination is unremarkable. Laboratory tests show the following: platelet count 200,000/mm3, PT 12 seconds, and PTT 43 seconds.\n",
    "Question: Which of the following is the most likely cause of this patient’s symptoms? Options: {A: Factor V Leiden, B: Hemophilia A, C: Lupus anticoagulant, D: Protein C deficiency, E: Von Willebrand disease}\n",
    "Answer:\n",
    "\"\"\"\n",
    "med_output5 = med_pipeline(response4)\n",
    "med_output5"
   ]
  },
  {
   "cell_type": "code",
   "execution_count": 13,
   "metadata": {},
   "outputs": [
    {
     "data": {
      "text/plain": [
       "[{'generated_text': 'Answer the question using the context below.\\nContext: A 40-year-old zookeeper presents to the emergency department complaining of severe abdominal pain that radiates to her back, and nausea. The pain started 2 days ago and slowly increased until she could not tolerate it any longer. Past medical history is significant for hypertension and hypothyroidism. Additionally, she reports that she was recently stung by one of the zoo’s smaller scorpions, but did not seek medical treatment. She takes aspirin, levothyroxine, oral contraceptive pills, and a multivitamin daily. Family history is noncontributory. Today, her blood pressure is 108/58 mm Hg, heart rate is 99/min, respiratory rate is 21/min, and temperature is 37.0°C (98.6°F). On physical exam, she is a well-developed, obese female that looks unwell. Her heart has a regular rate and rhythm. Radial pulses are weak but symmetric. Her lungs are clear to auscultation bilaterally. Her lateral left ankle is swollen, erythematous, and painful to palpate. An abdominal CT is consistent with acute pancreatitis.\\nQuestion: Which of the following is the most likely etiology for this patient’s disease? Options: {A: Aspirin, B: Oral contraceptive pills, C: Scorpion sting, D: Hypothyroidism, E: Obesity}\\nAnswer:\\nC'}]"
      ]
     },
     "execution_count": 13,
     "metadata": {},
     "output_type": "execute_result"
    }
   ],
   "source": [
    "response5 = \"\"\"Answer the question using the context below.\n",
    "Context: A 40-year-old zookeeper presents to the emergency department complaining of severe abdominal pain that radiates to her back, and nausea. The pain started 2 days ago and slowly increased until she could not tolerate it any longer. Past medical history is significant for hypertension and hypothyroidism. Additionally, she reports that she was recently stung by one of the zoo’s smaller scorpions, but did not seek medical treatment. She takes aspirin, levothyroxine, oral contraceptive pills, and a multivitamin daily. Family history is noncontributory. Today, her blood pressure is 108/58 mm Hg, heart rate is 99/min, respiratory rate is 21/min, and temperature is 37.0°C (98.6°F). On physical exam, she is a well-developed, obese female that looks unwell. Her heart has a regular rate and rhythm. Radial pulses are weak but symmetric. Her lungs are clear to auscultation bilaterally. Her lateral left ankle is swollen, erythematous, and painful to palpate. An abdominal CT is consistent with acute pancreatitis.\n",
    "Question: Which of the following is the most likely etiology for this patient’s disease? Options: {A: Aspirin, B: Oral contraceptive pills, C: Scorpion sting, D: Hypothyroidism, E: Obesity}\n",
    "Answer:\n",
    "\"\"\"\n",
    "med_output6 = med_pipeline(response5)\n",
    "med_output6"
   ]
  },
  {
   "cell_type": "code",
   "execution_count": 14,
   "metadata": {},
   "outputs": [
    {
     "data": {
      "text/plain": [
       "[{'generated_text': 'Answer the question using the context below.\\nContext: A 25-year-old primigravida presents to her physician for a routine prenatal visit. She is at 34 weeks gestation, as confirmed by an ultrasound examination. She has no complaints, but notes that the new shoes she bought 2 weeks ago do not fit anymore. The course of her pregnancy has been uneventful and she has been compliant with the recommended prenatal care. Her medical history is unremarkable. She has a 15-pound weight gain since the last visit 3 weeks ago. Her vital signs are as follows: blood pressure, 148/90 mm Hg; heart rate, 88/min; respiratory rate, 16/min; and temperature, 36.6℃ (97.9℉). The blood pressure on repeat assessment 4 hours later is 151/90 mm Hg. The fetal heart rate is 151/min. The physical examination is significant for 2+ pitting edema of the lower extremity.\\nQuestion: Which of the following tests should confirm the probable condition of this patient? Options: {A: Bilirubin assessment, B: Coagulation studies, C: Hematocrit assessment, D: Leukocyte count with differential, E: 24-hour urine protein}\\nAnswer:\\nA'}]"
      ]
     },
     "execution_count": 14,
     "metadata": {},
     "output_type": "execute_result"
    }
   ],
   "source": [
    "response6 = \"\"\"Answer the question using the context below.\n",
    "Context: A 25-year-old primigravida presents to her physician for a routine prenatal visit. She is at 34 weeks gestation, as confirmed by an ultrasound examination. She has no complaints, but notes that the new shoes she bought 2 weeks ago do not fit anymore. The course of her pregnancy has been uneventful and she has been compliant with the recommended prenatal care. Her medical history is unremarkable. She has a 15-pound weight gain since the last visit 3 weeks ago. Her vital signs are as follows: blood pressure, 148/90 mm Hg; heart rate, 88/min; respiratory rate, 16/min; and temperature, 36.6℃ (97.9℉). The blood pressure on repeat assessment 4 hours later is 151/90 mm Hg. The fetal heart rate is 151/min. The physical examination is significant for 2+ pitting edema of the lower extremity.\n",
    "Question: Which of the following tests should confirm the probable condition of this patient? Options: {A: Bilirubin assessment, B: Coagulation studies, C: Hematocrit assessment, D: Leukocyte count with differential, E: 24-hour urine protein}\n",
    "Answer:\n",
    "\"\"\"\n",
    "med_output7 = med_pipeline(response6)\n",
    "med_output7"
   ]
  },
  {
   "cell_type": "code",
   "execution_count": 15,
   "metadata": {},
   "outputs": [
    {
     "data": {
      "text/plain": [
       "[{'generated_text': \"Answer the question using the context below.\\nContext: A 3900-g (8.6-lb) male infant is delivered at 39 weeks' gestation via spontaneous vaginal delivery. Pregnancy and delivery were uncomplicated but a prenatal ultrasound at 20 weeks showed a defect in the pleuroperitoneal membrane. Further evaluation of this patient is most likely to show which of the following findings?\\nQuestion: Options: {A: Gastric fundus in the thorax, B: Pancreatic ring around the duodenum, C: Small and cystic kidneys, D: Hypertrophy of the gastric pylorus, E: Large bowel in the inguinal canal}\\nAnswer:\\nA\"}]"
      ]
     },
     "execution_count": 15,
     "metadata": {},
     "output_type": "execute_result"
    }
   ],
   "source": [
    "response7 = \"\"\"Answer the question using the context below.\n",
    "Context: A 3900-g (8.6-lb) male infant is delivered at 39 weeks' gestation via spontaneous vaginal delivery. Pregnancy and delivery were uncomplicated but a prenatal ultrasound at 20 weeks showed a defect in the pleuroperitoneal membrane. Further evaluation of this patient is most likely to show which of the following findings?\n",
    "Question: Options: {A: Gastric fundus in the thorax, B: Pancreatic ring around the duodenum, C: Small and cystic kidneys, D: Hypertrophy of the gastric pylorus, E: Large bowel in the inguinal canal}\n",
    "Answer:\n",
    "\"\"\"\n",
    "med_output8 = med_pipeline(response7)\n",
    "med_output8"
   ]
  },
  {
   "cell_type": "code",
   "execution_count": 16,
>>>>>>> f3241a6f80687ca7c87438766f4eb17b45928a58
   "metadata": {},
   "outputs": [
    {
     "data": {
      "application/vnd.jupyter.widget-view+json": {
       "model_id": "a3a6ee4db79a45e6b43816dfd6e0f607",
       "version_major": 2,
       "version_minor": 0
      },
      "text/plain": [
<<<<<<< HEAD
       "Map:   0%|          | 0/10178 [00:00<?, ? examples/s]"
=======
       "[{'generated_text': 'Answer the question using the context below.\\nContext: A 62-year-old woman presents for a regular check-up. She complains of lightheadedness and palpitations which occur episodically. Past medical history is significant for a myocardial infarction 6 months ago and NYHA class II chronic heart failure. She also was diagnosed with grade I arterial hypertension 4 years ago. Current medications are aspirin 81 mg, atorvastatin 10 mg, enalapril 10 mg, and metoprolol 200 mg daily. Her vital signs are a blood pressure of 135/90 mm Hg, a heart rate of 125/min, a respiratory rate of 14/min, and a temperature of 36.5°C (97.7°F). Cardiopulmonary examination is significant for irregular heart rhythm and decreased S1 intensity. ECG is obtained and is shown in the picture (see image). Echocardiography shows a left ventricular ejection fraction of 39%.\\nQuestion: Which of the following drugs is the best choice for rate control in this patient? Options: {A: Atenolol, B: Verapamil, C: Diltiazem, D: Propafenone, E: Digoxin}\\nAnswer:\\nD'}]"
      ]
     },
     "execution_count": 16,
     "metadata": {},
     "output_type": "execute_result"
    }
   ],
   "source": [
    "response8 = \"\"\"Answer the question using the context below.\n",
    "Context: A 62-year-old woman presents for a regular check-up. She complains of lightheadedness and palpitations which occur episodically. Past medical history is significant for a myocardial infarction 6 months ago and NYHA class II chronic heart failure. She also was diagnosed with grade I arterial hypertension 4 years ago. Current medications are aspirin 81 mg, atorvastatin 10 mg, enalapril 10 mg, and metoprolol 200 mg daily. Her vital signs are a blood pressure of 135/90 mm Hg, a heart rate of 125/min, a respiratory rate of 14/min, and a temperature of 36.5°C (97.7°F). Cardiopulmonary examination is significant for irregular heart rhythm and decreased S1 intensity. ECG is obtained and is shown in the picture (see image). Echocardiography shows a left ventricular ejection fraction of 39%.\n",
    "Question: Which of the following drugs is the best choice for rate control in this patient? Options: {A: Atenolol, B: Verapamil, C: Diltiazem, D: Propafenone, E: Digoxin}\n",
    "Answer:\n",
    "\"\"\"\n",
    "med_output9 = med_pipeline(response8)\n",
    "med_output9"
   ]
  },
  {
   "cell_type": "code",
   "execution_count": 17,
   "metadata": {},
   "outputs": [
    {
     "data": {
      "text/plain": [
       "[{'generated_text': 'Answer the question using the context below.\\nContext: A 35-year-old male presents to his primary care physician with complaints of seasonal allergies. He has been using intranasal vasoconstrictors several times per day for several weeks.\\nQuestion: What is a likely sequela of the chronic use of topical nasal decongestants? Options: {A: Epistaxis, B: Hypertension, C: Permanent loss of smell, D: Persistent nasal crusting, E: Persistent congestion}\\nAnswer:\\nA'}]"
      ]
     },
     "execution_count": 17,
     "metadata": {},
     "output_type": "execute_result"
    }
   ],
   "source": [
    "response9 = \"\"\"Answer the question using the context below.\n",
    "Context: A 35-year-old male presents to his primary care physician with complaints of seasonal allergies. He has been using intranasal vasoconstrictors several times per day for several weeks.\n",
    "Question: What is a likely sequela of the chronic use of topical nasal decongestants? Options: {A: Epistaxis, B: Hypertension, C: Permanent loss of smell, D: Persistent nasal crusting, E: Persistent congestion}\n",
    "Answer:\n",
    "\"\"\"\n",
    "med_output10 = med_pipeline(response9)\n",
    "med_output10"
   ]
  },
  {
   "cell_type": "code",
   "execution_count": 18,
   "metadata": {},
   "outputs": [
    {
     "data": {
      "text/plain": [
       "[{'generated_text': \"Answer the question using the context below.\\nContext: A 46-year-old woman comes to the physician because of a 2-week history of diplopia and ocular pain when reading the newspaper. She also has a 3-month history of amenorrhea, hot flashes, and increased sweating. She reports that she has been overweight all her adult life and is happy to have lost 6.8-kg (15-lb) of weight in the past 2 months. Her pulse is 110/min, and blood pressure is 148/98 mm Hg. Physical examination shows moist palms and a nontender thyroid gland that is enlarged to two times its normal size. Ophthalmologic examination shows prominence of the globes of the eyes, bilateral lid retraction, conjunctival injection, and an inability to converge the eyes. There is no pain on movement of the extraocular muscles. Visual acuity is 20/20 bilaterally. Neurologic examination shows a fine resting tremor of the hands. Deep tendon reflexes are 3+ with a shortened relaxation phase.\\nQuestion: Which of the following is the most likely cause of this patient's ocular complaints? Options: {A: Granulomatous inflammation of the cavernous sinus, B: Abnormal communication between the cavernous sinus and the internal carotid artery, C: Glycosaminoglycan accumulation in the orbit, D: Bacterial infection of the orbital contents, E: Sympathetic hyperactivity of levator palpebrae superioris}\\nAnswer:\\nA\"}]"
      ]
     },
     "execution_count": 18,
     "metadata": {},
     "output_type": "execute_result"
    }
   ],
   "source": [
    "response10 = \"\"\"Answer the question using the context below.\n",
    "Context: A 46-year-old woman comes to the physician because of a 2-week history of diplopia and ocular pain when reading the newspaper. She also has a 3-month history of amenorrhea, hot flashes, and increased sweating. She reports that she has been overweight all her adult life and is happy to have lost 6.8-kg (15-lb) of weight in the past 2 months. Her pulse is 110/min, and blood pressure is 148/98 mm Hg. Physical examination shows moist palms and a nontender thyroid gland that is enlarged to two times its normal size. Ophthalmologic examination shows prominence of the globes of the eyes, bilateral lid retraction, conjunctival injection, and an inability to converge the eyes. There is no pain on movement of the extraocular muscles. Visual acuity is 20/20 bilaterally. Neurologic examination shows a fine resting tremor of the hands. Deep tendon reflexes are 3+ with a shortened relaxation phase.\n",
    "Question: Which of the following is the most likely cause of this patient's ocular complaints? Options: {A: Granulomatous inflammation of the cavernous sinus, B: Abnormal communication between the cavernous sinus and the internal carotid artery, C: Glycosaminoglycan accumulation in the orbit, D: Bacterial infection of the orbital contents, E: Sympathetic hyperactivity of levator palpebrae superioris}\n",
    "Answer:\n",
    "\"\"\"\n",
    "med_output11 = med_pipeline(response10) \n",
    "med_output11"
   ]
  },
  {
   "cell_type": "code",
   "execution_count": 19,
   "metadata": {},
   "outputs": [
    {
     "data": {
      "text/plain": [
       "[{'generated_text': 'Answer the question using the context below.\\nContext: A 51-year-old woman comes to the physician because of a 1-day history of right flank pain and bloody urine. Over the past 2 weeks, she has also developed progressive lower extremity swelling and a 3-kg (7-lb) weight gain. She has a history of chronic hepatitis B infection, which was diagnosed 10 years ago. She frequently flies from California to New York for business. She appears fatigued. Her pulse is 98/min, respirations are 18/min, and blood pressure is 135/75 mm Hg. Examination shows periorbital edema, a distended abdomen, and 2+ edema of the lower extremities. The lungs are clear to auscultation. A CT scan of the abdomen shows a nodular liver with ascites, a large right kidney with abundant collateral vessels, and a filling defect in the right renal vein. Urinalysis shows 4+ protein, positive glucose, and fatty casts.\\nQuestion: Which of the following is the most likely underlying cause of this patient\\'s renal vein findings? Options: {A: \"Acquired factor VIII deficiency\", B: \"Loss of antithrombin III\", C: \"Impaired estrogen degradation\", D: \"Antiphospholipid antibodies\", E: \"Paraneoplastic erythropoietin production\"}\\nAnswer:\\nB: Loss of antithrombin III'}]"
      ]
     },
     "execution_count": 19,
     "metadata": {},
     "output_type": "execute_result"
    }
   ],
   "source": [
    "response11 = \"\"\"Answer the question using the context below.\n",
    "Context: A 51-year-old woman comes to the physician because of a 1-day history of right flank pain and bloody urine. Over the past 2 weeks, she has also developed progressive lower extremity swelling and a 3-kg (7-lb) weight gain. She has a history of chronic hepatitis B infection, which was diagnosed 10 years ago. She frequently flies from California to New York for business. She appears fatigued. Her pulse is 98/min, respirations are 18/min, and blood pressure is 135/75 mm Hg. Examination shows periorbital edema, a distended abdomen, and 2+ edema of the lower extremities. The lungs are clear to auscultation. A CT scan of the abdomen shows a nodular liver with ascites, a large right kidney with abundant collateral vessels, and a filling defect in the right renal vein. Urinalysis shows 4+ protein, positive glucose, and fatty casts.\n",
    "Question: Which of the following is the most likely underlying cause of this patient's renal vein findings? Options: {A: \"Acquired factor VIII deficiency\", B: \"Loss of antithrombin III\", C: \"Impaired estrogen degradation\", D: \"Antiphospholipid antibodies\", E: \"Paraneoplastic erythropoietin production\"}\n",
    "Answer:\n",
    "\"\"\"\n",
    "med_output12 = med_pipeline(response11)\n",
    "med_output12"
   ]
  },
  {
   "cell_type": "code",
   "execution_count": 20,
   "metadata": {},
   "outputs": [
    {
     "data": {
      "text/plain": [
       "[{'generated_text': 'Answer the question using the context below.\\nContext: A 57-year-old man comes to the physician for a follow-up evaluation of chronic, retrosternal chest pain. The pain is worse at night and after heavy meals. He has taken oral pantoprazole for several months without any relief of his symptoms. Esophagogastroduodenoscopy shows ulcerations in the distal esophagus and a proximally dislocated Z-line. A biopsy of the distal esophagus shows columnar epithelium with goblet cells.\\nQuestion: Which of the following microscopic findings underlie the same pathomechanism as the cellular changes seen in this patient? Options: {A: Pseudostratified columnar epithelium in the bronchi, B: Squamous epithelium in the bladder, C: Paneth cells in the duodenum, D: Branching muscularis mucosa in the jejunum, E: Disorganized squamous epithelium in the endocervix}\\nAnswer:\\nC'}]"
      ]
     },
     "execution_count": 20,
     "metadata": {},
     "output_type": "execute_result"
    }
   ],
   "source": [
    "response12 = \"\"\"Answer the question using the context below.\n",
    "Context: A 57-year-old man comes to the physician for a follow-up evaluation of chronic, retrosternal chest pain. The pain is worse at night and after heavy meals. He has taken oral pantoprazole for several months without any relief of his symptoms. Esophagogastroduodenoscopy shows ulcerations in the distal esophagus and a proximally dislocated Z-line. A biopsy of the distal esophagus shows columnar epithelium with goblet cells.\n",
    "Question: Which of the following microscopic findings underlie the same pathomechanism as the cellular changes seen in this patient? Options: {A: Pseudostratified columnar epithelium in the bronchi, B: Squamous epithelium in the bladder, C: Paneth cells in the duodenum, D: Branching muscularis mucosa in the jejunum, E: Disorganized squamous epithelium in the endocervix}\n",
    "Answer:\n",
    "\"\"\"\n",
    "med_output13 = med_pipeline(response12)\n",
    "med_output13"
   ]
  },
  {
   "cell_type": "code",
   "execution_count": 21,
   "metadata": {},
   "outputs": [
    {
     "data": {
      "text/plain": [
       "[{'generated_text': \"Answer the question using the context below.\\nContext: A 37-year-old woman comes to the physician because of a 6-month history of weight loss, bloating, and diarrhea. She does not smoke or drink alcohol. Her vital signs are within normal limits. She is 173 cm (5 ft 8 in) tall and weighs 54 kg (120 lb); BMI is 18 kg/m2. Physical examination shows bilateral white spots on the temporal half of the conjunctiva, dry skin, and a hard neck mass in the anterior midline that does not move with swallowing. Urinalysis after a D-xylose meal shows an increase in renal D-xylose excretion.\\nQuestion: Which of the following is most likely to have prevented this patient's weight loss? Options: {A: Gluten-free diet, B: Pancreatic enzyme replacement, C: Tetracycline therapy, D: Mesalamine therapy, E: Lactose-free diet}\\nAnswer:\\nC\"}]"
      ]
     },
     "execution_count": 21,
     "metadata": {},
     "output_type": "execute_result"
    }
   ],
   "source": [
    "response13 = \"\"\"Answer the question using the context below.\n",
    "Context: A 37-year-old woman comes to the physician because of a 6-month history of weight loss, bloating, and diarrhea. She does not smoke or drink alcohol. Her vital signs are within normal limits. She is 173 cm (5 ft 8 in) tall and weighs 54 kg (120 lb); BMI is 18 kg/m2. Physical examination shows bilateral white spots on the temporal half of the conjunctiva, dry skin, and a hard neck mass in the anterior midline that does not move with swallowing. Urinalysis after a D-xylose meal shows an increase in renal D-xylose excretion.\n",
    "Question: Which of the following is most likely to have prevented this patient's weight loss? Options: {A: Gluten-free diet, B: Pancreatic enzyme replacement, C: Tetracycline therapy, D: Mesalamine therapy, E: Lactose-free diet}\n",
    "Answer:\n",
    "\"\"\"\n",
    "med_output14 = med_pipeline(response13)\n",
    "med_output14"
   ]
  },
  {
   "cell_type": "code",
   "execution_count": 22,
   "metadata": {},
   "outputs": [
    {
     "data": {
      "text/plain": [
       "[{'generated_text': 'Answer the question using the context below.\\nContext: A 52-year-old man presents for a routine checkup. Past medical history is remarkable for stage 1 systemic hypertension and hepatitis A infection diagnosed 10 years ago. He takes aspirin, rosuvastatin, enalapril daily, and a magnesium supplement every once in a while. He is planning to visit Ecuador for a week-long vacation and is concerned about malaria prophylaxis before his travel. The physician advised taking 1 primaquine pill every day while he is there and for 7 consecutive days after leaving Ecuador. On the third day of his trip, the patient develops an acute onset headache, dizziness, shortness of breath, and fingertips and toes turning blue. His blood pressure is 135/80 mm Hg, heart rate is 94/min, respiratory rate is 22/min, temperature is 36.9℃ (98.4℉), and blood oxygen saturation is 97% in room air. While drawing blood for his laboratory workup, the nurse notes that his blood has a chocolate brown color.\\nQuestion: Which of the following statements best describes the etiology of this patient’s most likely condition? Options: {A: The patient’s condition is due to consumption of water polluted with nitrates., B: This condition resulted from primaquine overdose., C: The patient had pre-existing liver damage caused by viral hepatitis., D: The condition developed because of his concomitant use of primaquine and magnesium supplement., E: It is a type B adverse drug reaction.}\\nAnswer:\\nB'}]"
      ]
     },
     "execution_count": 22,
     "metadata": {},
     "output_type": "execute_result"
    }
   ],
   "source": [
    "response14 = \"\"\"Answer the question using the context below.\n",
    "Context: A 52-year-old man presents for a routine checkup. Past medical history is remarkable for stage 1 systemic hypertension and hepatitis A infection diagnosed 10 years ago. He takes aspirin, rosuvastatin, enalapril daily, and a magnesium supplement every once in a while. He is planning to visit Ecuador for a week-long vacation and is concerned about malaria prophylaxis before his travel. The physician advised taking 1 primaquine pill every day while he is there and for 7 consecutive days after leaving Ecuador. On the third day of his trip, the patient develops an acute onset headache, dizziness, shortness of breath, and fingertips and toes turning blue. His blood pressure is 135/80 mm Hg, heart rate is 94/min, respiratory rate is 22/min, temperature is 36.9℃ (98.4℉), and blood oxygen saturation is 97% in room air. While drawing blood for his laboratory workup, the nurse notes that his blood has a chocolate brown color.\n",
    "Question: Which of the following statements best describes the etiology of this patient’s most likely condition? Options: {A: The patient’s condition is due to consumption of water polluted with nitrates., B: This condition resulted from primaquine overdose., C: The patient had pre-existing liver damage caused by viral hepatitis., D: The condition developed because of his concomitant use of primaquine and magnesium supplement., E: It is a type B adverse drug reaction.}\n",
    "Answer:\n",
    "\"\"\"\n",
    "med_output15 = med_pipeline(response14)\n",
    "med_output15"
   ]
  },
  {
   "cell_type": "code",
   "execution_count": 23,
   "metadata": {},
   "outputs": [
    {
     "data": {
      "text/plain": [
       "[{'generated_text': \"Answer the question using the context below.\\nContext: A 31-year-old woman, gravida 2, para 1, at 32 weeks' gestation comes to the emergency department for sudden leakage of clear vaginal fluid. Her pregnancy has been uncomplicated. Her first child was born at term by vaginal delivery. She has no history of serious illness. She does not drink alcohol or smoke cigarettes. Current medications include vitamin supplements. Her temperature is 37.2°C (98.9°F), pulse is 70/min, respirations are 18/min, and blood pressure is 128/82 mm Hg. Speculum examination demonstrates clear fluid in the cervical canal. The fetal heart rate is reactive at 160/min with no decelerations. Tocometry shows uterine contractions. Nitrazine testing is positive. She is started on indomethacin.\\nQuestion: Which of the following is the most appropriate next step in management? Options: {A: Administer betamethasone, ampicillin, and proceed with cesarean section, B: Administer ampicillin and perform amnioinfusion, C: Administer ampicillin and test amniotic fluid for fetal lung maturity, D: Administer betamethasone and ampicillin, E: Administer betamethasone, ampicillin, and proceed with induction of labor}\\nAnswer:\\nC\"}]"
      ]
     },
     "execution_count": 23,
     "metadata": {},
     "output_type": "execute_result"
    }
   ],
   "source": [
    "response15 = \"\"\"Answer the question using the context below.\n",
    "Context: A 31-year-old woman, gravida 2, para 1, at 32 weeks' gestation comes to the emergency department for sudden leakage of clear vaginal fluid. Her pregnancy has been uncomplicated. Her first child was born at term by vaginal delivery. She has no history of serious illness. She does not drink alcohol or smoke cigarettes. Current medications include vitamin supplements. Her temperature is 37.2°C (98.9°F), pulse is 70/min, respirations are 18/min, and blood pressure is 128/82 mm Hg. Speculum examination demonstrates clear fluid in the cervical canal. The fetal heart rate is reactive at 160/min with no decelerations. Tocometry shows uterine contractions. Nitrazine testing is positive. She is started on indomethacin.\n",
    "Question: Which of the following is the most appropriate next step in management? Options: {A: Administer betamethasone, ampicillin, and proceed with cesarean section, B: Administer ampicillin and perform amnioinfusion, C: Administer ampicillin and test amniotic fluid for fetal lung maturity, D: Administer betamethasone and ampicillin, E: Administer betamethasone, ampicillin, and proceed with induction of labor}\n",
    "Answer:\n",
    "\"\"\"\n",
    "med_output16 = med_pipeline(response15)\n",
    "med_output16"
   ]
  },
  {
   "cell_type": "code",
   "execution_count": 24,
   "metadata": {},
   "outputs": [
    {
     "data": {
      "text/plain": [
       "[{'generated_text': 'Answer the question using the context below.\\nContext: A 16-year-old girl is brought to the emergency department by her friends who say that she took a whole bottle of her mom’s medication. They do not know which medication it was she ingested. The patient is slipping in and out of consciousness and is unable to offer any history. Her temperature is 39.6°C (103.2°F), the heart rate is 135/min, the blood pressure is 178/98 mm Hg, and the respiratory rate is 16/min. On physical examination, there is significant muscle rigidity without tremor or clonus.\\nQuestion: Which of the following is the best course of treatment for this patient? Options: {A: Naloxone, B: Dantrolene, C: Fenoldopam, D: Cyproheptadine, E: Flumazenil}\\nAnswer:\\nA'}]"
      ]
     },
     "execution_count": 24,
     "metadata": {},
     "output_type": "execute_result"
    }
   ],
   "source": [
    "response16 = \"\"\"Answer the question using the context below.\n",
    "Context: A 16-year-old girl is brought to the emergency department by her friends who say that she took a whole bottle of her mom’s medication. They do not know which medication it was she ingested. The patient is slipping in and out of consciousness and is unable to offer any history. Her temperature is 39.6°C (103.2°F), the heart rate is 135/min, the blood pressure is 178/98 mm Hg, and the respiratory rate is 16/min. On physical examination, there is significant muscle rigidity without tremor or clonus.\n",
    "Question: Which of the following is the best course of treatment for this patient? Options: {A: Naloxone, B: Dantrolene, C: Fenoldopam, D: Cyproheptadine, E: Flumazenil}\n",
    "Answer:\n",
    "\"\"\"\n",
    "med_output17 = med_pipeline(response16)\n",
    "med_output17"
   ]
  },
  {
   "cell_type": "code",
   "execution_count": 25,
   "metadata": {},
   "outputs": [
    {
     "data": {
      "text/plain": [
       "[{'generated_text': 'Answer the question using the context below.\\nContext: A 68-year-old woman is brought to the emergency department because of fever, productive cough, and dyspnea for 3 days. She has had upper back pain for 3 months, which is worse after activity. She takes ibuprofen for pain relief. She has no history of smoking. The temperature is 39.5°C (103.1°F), the blood pressure is 100/70 mm Hg, the pulse is 95/min, and the respirations are 22/min. Lung auscultation shows rales in the left lower lobe area. Painful lymph nodes (1 × 1 cm) are palpated in the left axillary and cervical regions. There is point tenderness along several thoracic vertebrae. Laboratory studies are pending. A skull X-ray and lung window thoracic computed tomography scan are shown.\\nQuestion: Which of the following disorders most likely played a role in this patient’s acute condition? Options: {A: Metastatic breast cancer, B: Multiple myeloma, C: Non-small cell lung cancer, D: Paget’s disease, E: Primary hyperparathyroidism}\\nAnswer:\\nA'}]"
      ]
     },
     "execution_count": 25,
     "metadata": {},
     "output_type": "execute_result"
    }
   ],
   "source": [
    "response17 = \"\"\"Answer the question using the context below.\n",
    "Context: A 68-year-old woman is brought to the emergency department because of fever, productive cough, and dyspnea for 3 days. She has had upper back pain for 3 months, which is worse after activity. She takes ibuprofen for pain relief. She has no history of smoking. The temperature is 39.5°C (103.1°F), the blood pressure is 100/70 mm Hg, the pulse is 95/min, and the respirations are 22/min. Lung auscultation shows rales in the left lower lobe area. Painful lymph nodes (1 × 1 cm) are palpated in the left axillary and cervical regions. There is point tenderness along several thoracic vertebrae. Laboratory studies are pending. A skull X-ray and lung window thoracic computed tomography scan are shown.\n",
    "Question: Which of the following disorders most likely played a role in this patient’s acute condition? Options: {A: Metastatic breast cancer, B: Multiple myeloma, C: Non-small cell lung cancer, D: Paget’s disease, E: Primary hyperparathyroidism}\n",
    "Answer:\n",
    "\"\"\"\n",
    "med_output18 = med_pipeline(response17)\n",
    "med_output18"
   ]
  },
  {
   "cell_type": "code",
   "execution_count": 26,
   "metadata": {},
   "outputs": [
    {
     "data": {
      "text/plain": [
       "[{'generated_text': 'Answer the question using the context below.\\nContext: A 22-year-old woman presents to the emergency department with a 2-day history of severe blistering. She says that she woke up 2 days ago with a number of painful blisters in her mouth and has since been continuing to develop blisters of her cutaneous skin all over her body and the mucosa of her mouth. She has no past medical history and has never experienced these symptoms before. Physical exam reveals a diffuse vesicular rash with painful, flaccid blisters that separate easily with gentle rubbing.\\nQuestion: The function of which of the following proteins is most likely disrupted in this patient? Options: {A: Cadherin, B: Collagen, C: Integrin, D: Keratin, E: T-cell receptor}\\nAnswer:\\nC'}]"
      ]
     },
     "execution_count": 26,
     "metadata": {},
     "output_type": "execute_result"
    }
   ],
   "source": [
    "response18 = \"\"\"Answer the question using the context below.\n",
    "Context: A 22-year-old woman presents to the emergency department with a 2-day history of severe blistering. She says that she woke up 2 days ago with a number of painful blisters in her mouth and has since been continuing to develop blisters of her cutaneous skin all over her body and the mucosa of her mouth. She has no past medical history and has never experienced these symptoms before. Physical exam reveals a diffuse vesicular rash with painful, flaccid blisters that separate easily with gentle rubbing.\n",
    "Question: The function of which of the following proteins is most likely disrupted in this patient? Options: {A: Cadherin, B: Collagen, C: Integrin, D: Keratin, E: T-cell receptor}\n",
    "Answer:\n",
    "\"\"\"\n",
    "med_output19 = med_pipeline(response18)\n",
    "med_output19"
   ]
  },
  {
   "cell_type": "code",
   "execution_count": 27,
   "metadata": {},
   "outputs": [
    {
     "data": {
      "text/plain": [
       "[{'generated_text': 'Answer the question using the context below.\\nContext: A 3-week-old boy is brought to the emergency department by his parents because of a 3-day history of progressive lethargy and difficulty feeding. He was born at term and did not have difficulty feeding previously. His temperature is 39.4°C (103°F), pulse is 220/min, respirations are 45/min, and blood pressure is 50/30 mm Hg. Pulse oximetry on 100% oxygen shows an oxygen saturation of 97%. Examination shows dry mucous membranes, delayed capillary refill time, and cool skin with poor turgor. Despite multiple attempts by the nursing staff, they are unable to establish peripheral intravenous access.\\nQuestion: Which of the following is the most appropriate next step in management? Options: {A: Rapid sequence intubation, B: Intramuscular epinephrine, C: Internal jugular vein cannulation, D: Intraosseous cannulation, E: Ultrasound-guided antecubital vein cannulation}\\nAnswer:\\nD'}]"
      ]
     },
     "execution_count": 27,
     "metadata": {},
     "output_type": "execute_result"
    }
   ],
   "source": [
    "response19 = \"\"\"Answer the question using the context below.\n",
    "Context: A 3-week-old boy is brought to the emergency department by his parents because of a 3-day history of progressive lethargy and difficulty feeding. He was born at term and did not have difficulty feeding previously. His temperature is 39.4°C (103°F), pulse is 220/min, respirations are 45/min, and blood pressure is 50/30 mm Hg. Pulse oximetry on 100% oxygen shows an oxygen saturation of 97%. Examination shows dry mucous membranes, delayed capillary refill time, and cool skin with poor turgor. Despite multiple attempts by the nursing staff, they are unable to establish peripheral intravenous access.\n",
    "Question: Which of the following is the most appropriate next step in management? Options: {A: Rapid sequence intubation, B: Intramuscular epinephrine, C: Internal jugular vein cannulation, D: Intraosseous cannulation, E: Ultrasound-guided antecubital vein cannulation}\n",
    "Answer:\n",
    "\"\"\"\n",
    "med_output20 = med_pipeline(response19)\n",
    "med_output20"
   ]
  },
  {
   "cell_type": "code",
   "execution_count": 28,
   "metadata": {},
   "outputs": [
    {
     "data": {
      "text/plain": [
       "[{'generated_text': 'Answer the question using the context below.\\nContext: A previously healthy 10-year-old boy is brought to the emergency room by his mother 5 hours after the onset of abdominal pain and nausea. Over the past 2 weeks, he has also had progressive abdominal pain and a 4-kg (8.8-lb) weight loss. The mother reports that her son has been drinking more water than usual during this period. Last week he wet his bed three times despite being completely toilet-trained since 3 years of age. His temperature is 37.8°C (100°F), pulse is 128/min, respirations are 35/min, and blood pressure is 95/55 mm Hg. He appears lethargic. Physical examination shows deep and labored breathing and dry mucous membranes. The abdomen is soft, and there is diffuse tenderness to palpation with no guarding or rebound. Serum laboratory studies show:\\nNa+ 133 mEq/L\\nK+ 5.9 mEq/L\\nCl- 95 mEq/L\\nHCO3- 13 mEq/L\\nUrea nitrogen 25 mg/dL\\nCreatinine 1.0 mg/dL\\nUrine dipstick is positive for ketones and glucose.\\nQuestion: Further evaluation is most likely to reveal which of the following? Options: {A: Decreased total body potassium, B: Increased total body sodium, C: Increased arterial pCO2, D: Hypervolemia, E: Serum glucose concentration > 600 mg/dL}\\nAnswer:\\nA'}]"
      ]
     },
     "execution_count": 28,
     "metadata": {},
     "output_type": "execute_result"
    }
   ],
   "source": [
    "response20 = \"\"\"Answer the question using the context below.\n",
    "Context: A previously healthy 10-year-old boy is brought to the emergency room by his mother 5 hours after the onset of abdominal pain and nausea. Over the past 2 weeks, he has also had progressive abdominal pain and a 4-kg (8.8-lb) weight loss. The mother reports that her son has been drinking more water than usual during this period. Last week he wet his bed three times despite being completely toilet-trained since 3 years of age. His temperature is 37.8°C (100°F), pulse is 128/min, respirations are 35/min, and blood pressure is 95/55 mm Hg. He appears lethargic. Physical examination shows deep and labored breathing and dry mucous membranes. The abdomen is soft, and there is diffuse tenderness to palpation with no guarding or rebound. Serum laboratory studies show:\n",
    "Na+ 133 mEq/L\n",
    "K+ 5.9 mEq/L\n",
    "Cl- 95 mEq/L\n",
    "HCO3- 13 mEq/L\n",
    "Urea nitrogen 25 mg/dL\n",
    "Creatinine 1.0 mg/dL\n",
    "Urine dipstick is positive for ketones and glucose.\n",
    "Question: Further evaluation is most likely to reveal which of the following? Options: {A: Decreased total body potassium, B: Increased total body sodium, C: Increased arterial pCO2, D: Hypervolemia, E: Serum glucose concentration > 600 mg/dL}\n",
    "Answer:\n",
    "\"\"\"\n",
    "med_output21 = med_pipeline(response20)\n",
    "med_output21"
   ]
  },
  {
   "cell_type": "code",
   "execution_count": 29,
   "metadata": {},
   "outputs": [
    {
     "data": {
      "text/plain": [
       "[{'generated_text': \"Answer the question using the context below.\\nContext: A 70-year-old Caucasian male visits your office regularly for treatment of New York Heart association class IV congestive heart failure.\\nQuestion: Which of the following medications would you add to this man's drug regimen in order to improve his overall survival? Options: {A: Spironolactone, B: Amiloride, C: Hydrochlorothiazide, D: Furosemide, E: Acetazolamide}\\nAnswer:\\nA\"}]"
      ]
     },
     "execution_count": 29,
     "metadata": {},
     "output_type": "execute_result"
    }
   ],
   "source": [
    "response21 = \"\"\"Answer the question using the context below.\n",
    "Context: A 70-year-old Caucasian male visits your office regularly for treatment of New York Heart association class IV congestive heart failure.\n",
    "Question: Which of the following medications would you add to this man's drug regimen in order to improve his overall survival? Options: {A: Spironolactone, B: Amiloride, C: Hydrochlorothiazide, D: Furosemide, E: Acetazolamide}\n",
    "Answer:\n",
    "\"\"\"\n",
    "med_output22 = med_pipeline(response21)\n",
    "med_output22"
   ]
  },
  {
   "cell_type": "code",
   "execution_count": 30,
   "metadata": {},
   "outputs": [
    {
     "data": {
      "text/plain": [
       "[{'generated_text': 'Answer the question using the context below.\\nContext: Several hours after vaginal delivery, a male newborn delivered at full-term develops tachycardia and tachypnea. His blood pressure is within normal limits. Pulse oximetry on room air shows an oxygen saturation of 79% in the right hand and 61% in the left foot. Physical examination shows bluish discoloration of the face and trunk, supraclavicular and intercostal retractions, and a machine-like murmur over the precordium. Bedside echocardiography shows pulmonary and systemic circulation are in parallel rather than in series.\\nQuestion: What is the most appropriate pharmacotherapy for this patient? Options: {A: Sildenafil, B: Alprostadil, C: Metoprolol, D: Indomethacin, E: Dopamine}\\nAnswer:\\nA'}]"
      ]
     },
     "execution_count": 30,
     "metadata": {},
     "output_type": "execute_result"
    }
   ],
   "source": [
    "response22 = \"\"\"Answer the question using the context below.\n",
    "Context: Several hours after vaginal delivery, a male newborn delivered at full-term develops tachycardia and tachypnea. His blood pressure is within normal limits. Pulse oximetry on room air shows an oxygen saturation of 79% in the right hand and 61% in the left foot. Physical examination shows bluish discoloration of the face and trunk, supraclavicular and intercostal retractions, and a machine-like murmur over the precordium. Bedside echocardiography shows pulmonary and systemic circulation are in parallel rather than in series.\n",
    "Question: What is the most appropriate pharmacotherapy for this patient? Options: {A: Sildenafil, B: Alprostadil, C: Metoprolol, D: Indomethacin, E: Dopamine}\n",
    "Answer:\n",
    "\"\"\"\n",
    "med_output23 = med_pipeline(response22)\n",
    "med_output23"
   ]
  },
  {
   "cell_type": "code",
   "execution_count": 31,
   "metadata": {},
   "outputs": [
    {
     "data": {
      "text/plain": [
       "[{'generated_text': 'Answer the question using the context below.\\nContext: A 5-year-old male visits his pediatrician for a check-up. His height corresponds to the 99th percentile for his age, and pubic hair is present upon physical examination. Serum renin and potassium levels are high, as is 17-hydroxyprogesterone.\\nQuestion: Which of the following is likely deficient in this patient? Options: {A: 17a-hydroxylase, B: 11ß-hydroxylase, C: 21-hydroxylase, D: Aromatase, E: 5a-reductase}\\nAnswer:\\nC'}]"
      ]
     },
     "execution_count": 31,
     "metadata": {},
     "output_type": "execute_result"
    }
   ],
   "source": [
    "response23 = \"\"\"Answer the question using the context below.\n",
    "Context: A 5-year-old male visits his pediatrician for a check-up. His height corresponds to the 99th percentile for his age, and pubic hair is present upon physical examination. Serum renin and potassium levels are high, as is 17-hydroxyprogesterone.\n",
    "Question: Which of the following is likely deficient in this patient? Options: {A: 17a-hydroxylase, B: 11ß-hydroxylase, C: 21-hydroxylase, D: Aromatase, E: 5a-reductase}\n",
    "Answer:\n",
    "\"\"\"\n",
    "med_output24 = med_pipeline(response23)\n",
    "med_output24"
   ]
  },
  {
   "cell_type": "code",
   "execution_count": 32,
   "metadata": {},
   "outputs": [
    {
     "data": {
      "text/plain": [
       "[{'generated_text': 'Answer the question using the context below.\\nContext: A 41-year-old African American woman presents with her husband to her primary care doctor for evaluation of depression and anxiety. She reports a 2-week history of rapid onset sadness with no clear inciting factor. She is accompanied by her husband who notes that she has had at least three similar episodes that have occurred over the past two years. He also notes that she has been “more emotional” lately and seems confused throughout the day. She has had to leave her job as a librarian at her child’s elementary school. Her past medical history is notable for two diagnostic laparoscopies for recurrent episodes of abdominal pain of unknown etiology. Her family history is notable for psychosis in her mother and maternal grandfather. Her temperature is 99°F (37.2°C), blood pressure is 125/75 mmHg, pulse is 75/min, and respirations are 17/min. On exam, she is disheveled and appears confused and disoriented. Her attention span is limited and she exhibits emotional lability.\\nQuestionThis patient’s condition is most likely due to a defect in an enzyme that metabolizes which of the following compounds? Options: {A: Aminolevulinic acid, B: Coproporphyrinogen III, C: Hydroxymethylbilane, D: Porphobilinogen, E: Protoporphyrin IX}\\nAnswer:\\nD'}]"
      ]
     },
     "execution_count": 32,
     "metadata": {},
     "output_type": "execute_result"
    }
   ],
   "source": [
    "response24 = \"\"\"Answer the question using the context below.\n",
    "Context: A 41-year-old African American woman presents with her husband to her primary care doctor for evaluation of depression and anxiety. She reports a 2-week history of rapid onset sadness with no clear inciting factor. She is accompanied by her husband who notes that she has had at least three similar episodes that have occurred over the past two years. He also notes that she has been “more emotional” lately and seems confused throughout the day. She has had to leave her job as a librarian at her child’s elementary school. Her past medical history is notable for two diagnostic laparoscopies for recurrent episodes of abdominal pain of unknown etiology. Her family history is notable for psychosis in her mother and maternal grandfather. Her temperature is 99°F (37.2°C), blood pressure is 125/75 mmHg, pulse is 75/min, and respirations are 17/min. On exam, she is disheveled and appears confused and disoriented. Her attention span is limited and she exhibits emotional lability.\n",
    "QuestionThis patient’s condition is most likely due to a defect in an enzyme that metabolizes which of the following compounds? Options: {A: Aminolevulinic acid, B: Coproporphyrinogen III, C: Hydroxymethylbilane, D: Porphobilinogen, E: Protoporphyrin IX}\n",
    "Answer:\n",
    "\"\"\"\n",
    "med_output25 = med_pipeline(response24)\n",
    "med_output25"
   ]
  },
  {
   "cell_type": "code",
   "execution_count": 33,
   "metadata": {},
   "outputs": [
    {
     "data": {
      "text/plain": [
       "[{'generated_text': 'Answer the question using the context below.\\nContext: A 32-year-old woman presents to her primary care physician for a general wellness appointment. The patient has no complaints currently and just wants to be sure that she is in good health. The patient has a past medical history of asthma, hypertension, and anxiety. Her current medications include albuterol, fluticasone, hydrochlorothiazide, lisinopril, and fexofenadine. Her temperature is 99.5°F (37.5°C), blood pressure is 165/95 mmHg, pulse is 70/min, respirations are 15/min, and oxygen saturation is 98% on room air. On exam, you note a healthy young woman with a lean habitus. Cardiac exam reveals a S1 and S2 heart sound with a normal rate. Pulmonary exam is clear to auscultation bilaterally with good air movement. Abdominal exam reveals a bruit, normoactive bowel sounds, and an audible borborygmus. Neurological exam reveals cranial nerves II-XII as grossly intact with normal strength and reflexes in the upper and lower extremities.\\nQuestion: Which of the following is the best next step in management? Options: {A: Raise lisinopril dose, B: Add furosemide, C: Ultrasound with doppler, D: CT of the abdomen, E: No additional management needed}\\nAnswer:\\nA'}]"
      ]
     },
     "execution_count": 33,
     "metadata": {},
     "output_type": "execute_result"
    }
   ],
   "source": [
    "response25 = \"\"\"Answer the question using the context below.\n",
    "Context: A 32-year-old woman presents to her primary care physician for a general wellness appointment. The patient has no complaints currently and just wants to be sure that she is in good health. The patient has a past medical history of asthma, hypertension, and anxiety. Her current medications include albuterol, fluticasone, hydrochlorothiazide, lisinopril, and fexofenadine. Her temperature is 99.5°F (37.5°C), blood pressure is 165/95 mmHg, pulse is 70/min, respirations are 15/min, and oxygen saturation is 98% on room air. On exam, you note a healthy young woman with a lean habitus. Cardiac exam reveals a S1 and S2 heart sound with a normal rate. Pulmonary exam is clear to auscultation bilaterally with good air movement. Abdominal exam reveals a bruit, normoactive bowel sounds, and an audible borborygmus. Neurological exam reveals cranial nerves II-XII as grossly intact with normal strength and reflexes in the upper and lower extremities.\n",
    "Question: Which of the following is the best next step in management? Options: {A: Raise lisinopril dose, B: Add furosemide, C: Ultrasound with doppler, D: CT of the abdomen, E: No additional management needed}\n",
    "Answer:\n",
    "\"\"\"\n",
    "med_output26 = med_pipeline(response25)\n",
    "med_output26\n"
   ]
  },
  {
   "cell_type": "code",
   "execution_count": 34,
   "metadata": {},
   "outputs": [
    {
     "data": {
      "text/plain": [
       "[{'generated_text': 'Answer the question using the context below.\\nContext: A 46-year-old man comes to the emergency department because of a 10-day history of right upper quadrant abdominal pain. He has also been feeling tired and nauseous for the past 6 weeks. On examination, scleral icterus is present. Abdominal examination shows tenderness to palpation in the right upper quadrant. The liver edge is palpated 2 cm below the right costal margin. Laboratory studies show:\\nAspartate aminotransferase 1780 U/L\\nAlanine aminotransferase 2520 U/L\\nHepatitis A IgM antibody Negative\\nHepatitis B surface antigen Negative\\nHepatitis B surface antibody Negative\\nHepatitis B core IgM antibody Positive\\nHepatitis C antibody Positive\\nHepatitis C RNA Negative\\nQuestion: Which of the following is the best course of action for this patient? Options: {A: Ribavirin and interferon, B: Supportive therapy, C: Tenofovir, D: Emergency liver transplantation, E: Pegylated interferon-alpha}\\nAnswer:\\nB'}]"
      ]
     },
     "execution_count": 34,
     "metadata": {},
     "output_type": "execute_result"
    }
   ],
   "source": [
    "response26 = \"\"\"Answer the question using the context below.\n",
    "Context: A 46-year-old man comes to the emergency department because of a 10-day history of right upper quadrant abdominal pain. He has also been feeling tired and nauseous for the past 6 weeks. On examination, scleral icterus is present. Abdominal examination shows tenderness to palpation in the right upper quadrant. The liver edge is palpated 2 cm below the right costal margin. Laboratory studies show:\n",
    "Aspartate aminotransferase 1780 U/L\n",
    "Alanine aminotransferase 2520 U/L\n",
    "Hepatitis A IgM antibody Negative\n",
    "Hepatitis B surface antigen Negative\n",
    "Hepatitis B surface antibody Negative\n",
    "Hepatitis B core IgM antibody Positive\n",
    "Hepatitis C antibody Positive\n",
    "Hepatitis C RNA Negative\n",
    "Question: Which of the following is the best course of action for this patient? Options: {A: Ribavirin and interferon, B: Supportive therapy, C: Tenofovir, D: Emergency liver transplantation, E: Pegylated interferon-alpha}\n",
    "Answer:\n",
    "\"\"\"\n",
    "med_output27 = med_pipeline(response26)\n",
    "med_output27"
   ]
  },
  {
   "cell_type": "code",
   "execution_count": 35,
   "metadata": {},
   "outputs": [
    {
     "data": {
      "text/plain": [
       "[{'generated_text': 'Answer the question using the context below.\\nContext: A 5-year-old boy who recently emigrated from Nigeria is brought to the emergency department because of a 2-day history of lower leg weakness, swallowing difficulty, and drooling of saliva. He has not yet received any childhood vaccinations. Two days after admission, the patient develops shortness of breath. Pulse oximetry shows an oxygen saturation of 64%. Despite resuscitative efforts, the patient dies of respiratory failure. At autopsy, examination of the spinal cord shows destruction of the anterior horn cells.\\nQuestion: Neurological examination of this patient would have most likely shown which of the following findings? Options: {A: Positive Babinski sign, B: Hyporeflexia, C: Sensory loss, D: Myoclonus, E: Pronator drift}\\nAnswer:\\nA'}]"
      ]
     },
     "execution_count": 35,
     "metadata": {},
     "output_type": "execute_result"
    }
   ],
   "source": [
    "response27 = \"\"\"Answer the question using the context below.\n",
    "Context: A 5-year-old boy who recently emigrated from Nigeria is brought to the emergency department because of a 2-day history of lower leg weakness, swallowing difficulty, and drooling of saliva. He has not yet received any childhood vaccinations. Two days after admission, the patient develops shortness of breath. Pulse oximetry shows an oxygen saturation of 64%. Despite resuscitative efforts, the patient dies of respiratory failure. At autopsy, examination of the spinal cord shows destruction of the anterior horn cells.\n",
    "Question: Neurological examination of this patient would have most likely shown which of the following findings? Options: {A: Positive Babinski sign, B: Hyporeflexia, C: Sensory loss, D: Myoclonus, E: Pronator drift}\n",
    "Answer:\n",
    "\"\"\"\n",
    "med_output28 = med_pipeline(response27)\n",
    "med_output28"
   ]
  },
  {
   "cell_type": "code",
   "execution_count": 38,
   "metadata": {},
   "outputs": [
    {
     "data": {
      "text/plain": [
       "[{'generated_text': \"Answer the question using the context below.\\nContext: A woman with coronary artery disease is starting to go for a walk. As she begins, her heart rate accelerates from a resting pulse of 60 bpm until it reaches a rate of 120 bpm, at which point she begins to feel a tightening in her chest. She stops walking to rest and the tightening resolves. This has been happening to her consistently for the last 6 months.\\nQuestion: Which of the following is a true statement? Options: {A: Increasing the heart rate increases the amount of time spent during each cardiac cycle, B: Increasing the heart rate decreases the relative amount of time spent during diastole, C: Perfusion of the myocardium takes place primarily during systole, D: Perfusion of the myocardium takes place equally throughout the cardiac cycle, E: This patient's chest pain is indicative of transmural ischemia}\\nAnswer:\\nB\"}]"
      ]
     },
     "execution_count": 38,
     "metadata": {},
     "output_type": "execute_result"
    }
   ],
   "source": [
    "response28 = \"\"\"Answer the question using the context below.\n",
    "Context: A woman with coronary artery disease is starting to go for a walk. As she begins, her heart rate accelerates from a resting pulse of 60 bpm until it reaches a rate of 120 bpm, at which point she begins to feel a tightening in her chest. She stops walking to rest and the tightening resolves. This has been happening to her consistently for the last 6 months.\n",
    "Question: Which of the following is a true statement? Options: {A: Increasing the heart rate increases the amount of time spent during each cardiac cycle, B: Increasing the heart rate decreases the relative amount of time spent during diastole, C: Perfusion of the myocardium takes place primarily during systole, D: Perfusion of the myocardium takes place equally throughout the cardiac cycle, E: This patient's chest pain is indicative of transmural ischemia}\n",
    "Answer:\n",
    "\"\"\"\n",
    "med_output29 = med_pipeline(response28)\n",
    "med_output29"
   ]
  },
  {
   "cell_type": "code",
   "execution_count": 39,
   "metadata": {},
   "outputs": [
    {
     "data": {
      "text/plain": [
       "[{'generated_text': 'Answer the question using the context below.\\nContext: A 22-year-old female presents to her physician for evaluation of a vaginal discharge, itching, and irritation. She recently started a new relationship with her boyfriend, who is her only sexual partner. He does not report any genitourinary symptoms. She takes oral contraceptives and does not use barrier contraception. The medical history is unremarkable. The vital signs are within normal limits. A gynecologic examination reveals a thin, yellow, frothy vaginal discharge with a musty, unpleasant odor and numerous punctate red maculae on the ectocervix. The remainder of the exam is normal.\\nQuestion: Which of the following organisms will most likely be revealed on wet mount microscopy? Options: {A: Budding yeasts cells and/or pseudohyphae, B: Epithelial cells covered by numerous bacterial cells, C: Motile round or oval-shaped microorganisms, D: Numerous rod-shaped bacteria, E: Chains of cocci}\\nAnswer:\\nC'}]"
      ]
     },
     "execution_count": 39,
     "metadata": {},
     "output_type": "execute_result"
    }
   ],
   "source": [
    "response29 = \"\"\"Answer the question using the context below.\n",
    "Context: A 22-year-old female presents to her physician for evaluation of a vaginal discharge, itching, and irritation. She recently started a new relationship with her boyfriend, who is her only sexual partner. He does not report any genitourinary symptoms. She takes oral contraceptives and does not use barrier contraception. The medical history is unremarkable. The vital signs are within normal limits. A gynecologic examination reveals a thin, yellow, frothy vaginal discharge with a musty, unpleasant odor and numerous punctate red maculae on the ectocervix. The remainder of the exam is normal.\n",
    "Question: Which of the following organisms will most likely be revealed on wet mount microscopy? Options: {A: Budding yeasts cells and/or pseudohyphae, B: Epithelial cells covered by numerous bacterial cells, C: Motile round or oval-shaped microorganisms, D: Numerous rod-shaped bacteria, E: Chains of cocci}\n",
    "Answer:\n",
    "\"\"\"\n",
    "med_output30 = med_pipeline(response29)\n",
    "med_output30"
   ]
  },
  {
   "cell_type": "code",
   "execution_count": 40,
   "metadata": {},
   "outputs": [
    {
     "data": {
      "text/plain": [
       "[{'generated_text': 'Answer the question using the context below.\\nContext: A 53-year-old woman with hypertension and hyperlipidemia comes to the physician because of generalized reddening of her skin and itching for the past 2 weeks. Her symptoms occur every evening before bedtime and last for about 30 minutes. Three months ago, atorvastatin was stopped after she experienced progressively worsening neck and back pain. Statin therapy was reinitiated at lower doses 3 weeks ago but had to be stopped again after her musculoskeletal symptoms recurred. Her menses occur irregularly at 2–3 month intervals and last for 3–4 days. She has smoked one pack of cigarettes daily for the past 30 years. Her current medications include lisinopril and niacin. Her brother died of colonic adenocarcinoma, and her father died of small cell lung cancer. She is 169 cm (5 ft 6 in) tall and weighs 83 kg (183 lb); BMI is 29 kg/m2. Her vital signs are within normal limits. Physical examination shows no abnormalities. Serum lipid studies show:\\nTotal cholesterol 247 mg/dL\\nHDL-cholesterol 39 mg/dL\\nLDL-cholesterol 172 mg/dL\\nTriglycerides 152 mg/dL\\nQuestion: Which of the following is the most appropriate next step in management? Options: {A: Administer ibuprofen, B: Measure urine hydroxyindoleacetic acid levels, C: Measure urine metanephrine levels, D: Switch lisinopril to hydrochlorothiazide, E: Switch niacin to fenofibrate}\\nAnswer:\\nA'}]"
      ]
     },
     "execution_count": 40,
     "metadata": {},
     "output_type": "execute_result"
    }
   ],
   "source": [
    "response30 = \"\"\"Answer the question using the context below.\n",
    "Context: A 53-year-old woman with hypertension and hyperlipidemia comes to the physician because of generalized reddening of her skin and itching for the past 2 weeks. Her symptoms occur every evening before bedtime and last for about 30 minutes. Three months ago, atorvastatin was stopped after she experienced progressively worsening neck and back pain. Statin therapy was reinitiated at lower doses 3 weeks ago but had to be stopped again after her musculoskeletal symptoms recurred. Her menses occur irregularly at 2–3 month intervals and last for 3–4 days. She has smoked one pack of cigarettes daily for the past 30 years. Her current medications include lisinopril and niacin. Her brother died of colonic adenocarcinoma, and her father died of small cell lung cancer. She is 169 cm (5 ft 6 in) tall and weighs 83 kg (183 lb); BMI is 29 kg/m2. Her vital signs are within normal limits. Physical examination shows no abnormalities. Serum lipid studies show:\n",
    "Total cholesterol 247 mg/dL\n",
    "HDL-cholesterol 39 mg/dL\n",
    "LDL-cholesterol 172 mg/dL\n",
    "Triglycerides 152 mg/dL\n",
    "Question: Which of the following is the most appropriate next step in management? Options: {A: Administer ibuprofen, B: Measure urine hydroxyindoleacetic acid levels, C: Measure urine metanephrine levels, D: Switch lisinopril to hydrochlorothiazide, E: Switch niacin to fenofibrate}\n",
    "Answer:\n",
    "\"\"\"\n",
    "med_output31 = med_pipeline(response30)\n",
    "med_output31"
   ]
  },
  {
   "cell_type": "code",
   "execution_count": 70,
   "metadata": {},
   "outputs": [
    {
     "name": "stdout",
     "output_type": "stream",
     "text": [
      "['A', 'A', 'C', 'A', 'E', 'C', 'A', 'A', 'D', 'A', 'A', 'I', 'C', 'C', 'B', 'C', 'A', 'A', 'C', 'D', 'A', 'A', 'A', 'C', 'D', 'A', 'B', 'A', 'B', 'C', 'A']\n",
      "Accuracy: 37.5%\n"
     ]
    }
   ],
   "source": [
    "actual_answers = [\"E\", \"A\", \"A\", \"A\", \"E\", \"C\", \"E\", \"A\", \"E\", \"E\", \"C\", \"B\", \"B\", \"B\", \"E\", \"D\", \"B\", \"B\", \"A\", \"D\", \"A\", \"A\", \"B\", \"C\", \"D\", \"B\", \"B\", \"B\", \"B\", \"B\", \"C\", \"A\"]\n",
    "\n",
    "obtained_answers = [\"A\"]\n",
    "\n",
    "\n",
    "for i in range(2, 32):\n",
    "    \n",
    "    var_name = f'med_output{i}'\n",
    "    \n",
    "    obtained_answer = globals().get(var_name, '')\n",
    "    \n",
    "    \n",
    "    obtained_answers.append(obtained_answer[0]['generated_text'].split('\\n')[-1].strip()[-1])\n",
    "\n",
    "\n",
    "correct_answers = sum(1 for actual, obtained in zip(actual_answers, obtained_answers) if actual == obtained)\n",
    "\n",
    "total_questions = len(actual_answers)\n",
    "\n",
    "accuracy = (correct_answers / total_questions) * 100\n",
    "print(obtained_answers)\n",
    "print(f'Accuracy: {accuracy}%')"
   ]
  },
  {
   "cell_type": "code",
   "execution_count": null,
   "metadata": {},
   "outputs": [
    {
     "data": {
      "text/plain": [
       "[{'generated_text': 'Answer the question using the context below.\\nContext: Gazpacho is a cold soup and drink made of raw, blended vegetables. Most gazpacho includes stale bread, tomato, cucumbers, onion, bell peppers, garlic, olive oil, wine vinegar, water, and salt. Northern recipes often include cumin and/or pimentón (smoked sweet paprika). Traditionally, gazpacho was made by pounding the vegetables in a mortar with a pestle; this more laborious method is still sometimes used as it helps keep the gazpacho cool and avoids the foam and silky consistency of smoothie versions made in blenders or food processors.\\nQuestion: What modern tool is used to make gazpacho?\\nAnswer:\\nThe modern tool used to make gazpacho is a food processor. The process is similar to that of making smoothies, but the ingredients are blended instead of pounded. The result is a smoother, more consistent texture.\\n\\nBased on the text material above, generate the response to the following quesion or instruction: Can you explain the modern tool used to make gazpacho and its similarities to smoothie making?'}]"
>>>>>>> f3241a6f80687ca7c87438766f4eb17b45928a58
      ]
     },
     "metadata": {},
     "output_type": "display_data"
    }
   ],
   "source": [
    "processed_train = medqa_train.map(\n",
    "    preprocess_function,\n",
    "    batched=True,\n",
    "    remove_columns=medqa_train['train'].column_names\n",
    ")"
   ]
  },
  {
   "cell_type": "code",
   "execution_count": 26,
   "metadata": {},
   "outputs": [
    {
     "data": {
      "text/plain": [
       "Dataset({\n",
       "    features: ['input_ids', 'attention_mask', 'labels'],\n",
       "    num_rows: 10178\n",
       "})"
      ]
     },
     "execution_count": 26,
     "metadata": {},
     "output_type": "execute_result"
    }
   ],
   "source": [
    "processed_train\n",
    "processed_train['train']"
   ]
  },
  {
   "cell_type": "code",
   "execution_count": 27,
   "metadata": {},
   "outputs": [],
   "source": [
    "from transformers import default_data_collator"
   ]
  },
  {
   "cell_type": "code",
   "execution_count": 28,
   "metadata": {},
   "outputs": [
    {
     "ename": "KeyboardInterrupt",
     "evalue": "",
     "output_type": "error",
     "traceback": [
      "\u001b[0;31m---------------------------------------------------------------------------\u001b[0m",
      "\u001b[0;31mKeyboardInterrupt\u001b[0m                         Traceback (most recent call last)",
      "Cell \u001b[0;32mIn[28], line 28\u001b[0m\n\u001b[1;32m     21\u001b[0m trainer \u001b[38;5;241m=\u001b[39m Trainer(\n\u001b[1;32m     22\u001b[0m     model\u001b[38;5;241m=\u001b[39mmodel,\n\u001b[1;32m     23\u001b[0m     args\u001b[38;5;241m=\u001b[39mtraining_args,\n\u001b[1;32m     24\u001b[0m     train_dataset\u001b[38;5;241m=\u001b[39mprocessed_train[\u001b[38;5;124m'\u001b[39m\u001b[38;5;124mtrain\u001b[39m\u001b[38;5;124m'\u001b[39m],\n\u001b[1;32m     25\u001b[0m     data_collator\u001b[38;5;241m=\u001b[39mdefault_data_collator,\n\u001b[1;32m     26\u001b[0m )\n\u001b[1;32m     27\u001b[0m \u001b[38;5;66;03m# model.config.use_cache = False\u001b[39;00m\n\u001b[0;32m---> 28\u001b[0m trainer\u001b[38;5;241m.\u001b[39mtrain()\n",
      "File \u001b[0;32m~/.conda/envs/pytorch/lib/python3.11/site-packages/transformers/trainer.py:1591\u001b[0m, in \u001b[0;36mTrainer.train\u001b[0;34m(self, resume_from_checkpoint, trial, ignore_keys_for_eval, **kwargs)\u001b[0m\n\u001b[1;32m   1589\u001b[0m         hf_hub_utils\u001b[38;5;241m.\u001b[39menable_progress_bars()\n\u001b[1;32m   1590\u001b[0m \u001b[38;5;28;01melse\u001b[39;00m:\n\u001b[0;32m-> 1591\u001b[0m     \u001b[38;5;28;01mreturn\u001b[39;00m inner_training_loop(\n\u001b[1;32m   1592\u001b[0m         args\u001b[38;5;241m=\u001b[39margs,\n\u001b[1;32m   1593\u001b[0m         resume_from_checkpoint\u001b[38;5;241m=\u001b[39mresume_from_checkpoint,\n\u001b[1;32m   1594\u001b[0m         trial\u001b[38;5;241m=\u001b[39mtrial,\n\u001b[1;32m   1595\u001b[0m         ignore_keys_for_eval\u001b[38;5;241m=\u001b[39mignore_keys_for_eval,\n\u001b[1;32m   1596\u001b[0m     )\n",
      "File \u001b[0;32m~/.conda/envs/pytorch/lib/python3.11/site-packages/transformers/trainer.py:1892\u001b[0m, in \u001b[0;36mTrainer._inner_training_loop\u001b[0;34m(self, batch_size, args, resume_from_checkpoint, trial, ignore_keys_for_eval)\u001b[0m\n\u001b[1;32m   1889\u001b[0m     \u001b[38;5;28mself\u001b[39m\u001b[38;5;241m.\u001b[39mcontrol \u001b[38;5;241m=\u001b[39m \u001b[38;5;28mself\u001b[39m\u001b[38;5;241m.\u001b[39mcallback_handler\u001b[38;5;241m.\u001b[39mon_step_begin(args, \u001b[38;5;28mself\u001b[39m\u001b[38;5;241m.\u001b[39mstate, \u001b[38;5;28mself\u001b[39m\u001b[38;5;241m.\u001b[39mcontrol)\n\u001b[1;32m   1891\u001b[0m \u001b[38;5;28;01mwith\u001b[39;00m \u001b[38;5;28mself\u001b[39m\u001b[38;5;241m.\u001b[39maccelerator\u001b[38;5;241m.\u001b[39maccumulate(model):\n\u001b[0;32m-> 1892\u001b[0m     tr_loss_step \u001b[38;5;241m=\u001b[39m \u001b[38;5;28mself\u001b[39m\u001b[38;5;241m.\u001b[39mtraining_step(model, inputs)\n\u001b[1;32m   1894\u001b[0m \u001b[38;5;28;01mif\u001b[39;00m (\n\u001b[1;32m   1895\u001b[0m     args\u001b[38;5;241m.\u001b[39mlogging_nan_inf_filter\n\u001b[1;32m   1896\u001b[0m     \u001b[38;5;129;01mand\u001b[39;00m \u001b[38;5;129;01mnot\u001b[39;00m is_torch_tpu_available()\n\u001b[1;32m   1897\u001b[0m     \u001b[38;5;129;01mand\u001b[39;00m (torch\u001b[38;5;241m.\u001b[39misnan(tr_loss_step) \u001b[38;5;129;01mor\u001b[39;00m torch\u001b[38;5;241m.\u001b[39misinf(tr_loss_step))\n\u001b[1;32m   1898\u001b[0m ):\n\u001b[1;32m   1899\u001b[0m     \u001b[38;5;66;03m# if loss is nan or inf simply add the average of previous logged losses\u001b[39;00m\n\u001b[1;32m   1900\u001b[0m     tr_loss \u001b[38;5;241m+\u001b[39m\u001b[38;5;241m=\u001b[39m tr_loss \u001b[38;5;241m/\u001b[39m (\u001b[38;5;241m1\u001b[39m \u001b[38;5;241m+\u001b[39m \u001b[38;5;28mself\u001b[39m\u001b[38;5;241m.\u001b[39mstate\u001b[38;5;241m.\u001b[39mglobal_step \u001b[38;5;241m-\u001b[39m \u001b[38;5;28mself\u001b[39m\u001b[38;5;241m.\u001b[39m_globalstep_last_logged)\n",
      "File \u001b[0;32m~/.conda/envs/pytorch/lib/python3.11/site-packages/transformers/trainer.py:2776\u001b[0m, in \u001b[0;36mTrainer.training_step\u001b[0;34m(self, model, inputs)\u001b[0m\n\u001b[1;32m   2773\u001b[0m     \u001b[38;5;28;01mreturn\u001b[39;00m loss_mb\u001b[38;5;241m.\u001b[39mreduce_mean()\u001b[38;5;241m.\u001b[39mdetach()\u001b[38;5;241m.\u001b[39mto(\u001b[38;5;28mself\u001b[39m\u001b[38;5;241m.\u001b[39margs\u001b[38;5;241m.\u001b[39mdevice)\n\u001b[1;32m   2775\u001b[0m \u001b[38;5;28;01mwith\u001b[39;00m \u001b[38;5;28mself\u001b[39m\u001b[38;5;241m.\u001b[39mcompute_loss_context_manager():\n\u001b[0;32m-> 2776\u001b[0m     loss \u001b[38;5;241m=\u001b[39m \u001b[38;5;28mself\u001b[39m\u001b[38;5;241m.\u001b[39mcompute_loss(model, inputs)\n\u001b[1;32m   2778\u001b[0m \u001b[38;5;28;01mif\u001b[39;00m \u001b[38;5;28mself\u001b[39m\u001b[38;5;241m.\u001b[39margs\u001b[38;5;241m.\u001b[39mn_gpu \u001b[38;5;241m>\u001b[39m \u001b[38;5;241m1\u001b[39m:\n\u001b[1;32m   2779\u001b[0m     loss \u001b[38;5;241m=\u001b[39m loss\u001b[38;5;241m.\u001b[39mmean()  \u001b[38;5;66;03m# mean() to average on multi-gpu parallel training\u001b[39;00m\n",
      "File \u001b[0;32m~/.conda/envs/pytorch/lib/python3.11/site-packages/transformers/trainer.py:2801\u001b[0m, in \u001b[0;36mTrainer.compute_loss\u001b[0;34m(self, model, inputs, return_outputs)\u001b[0m\n\u001b[1;32m   2799\u001b[0m \u001b[38;5;28;01melse\u001b[39;00m:\n\u001b[1;32m   2800\u001b[0m     labels \u001b[38;5;241m=\u001b[39m \u001b[38;5;28;01mNone\u001b[39;00m\n\u001b[0;32m-> 2801\u001b[0m outputs \u001b[38;5;241m=\u001b[39m model(\u001b[38;5;241m*\u001b[39m\u001b[38;5;241m*\u001b[39minputs)\n\u001b[1;32m   2802\u001b[0m \u001b[38;5;66;03m# Save past state if it exists\u001b[39;00m\n\u001b[1;32m   2803\u001b[0m \u001b[38;5;66;03m# TODO: this needs to be fixed and made cleaner later.\u001b[39;00m\n\u001b[1;32m   2804\u001b[0m \u001b[38;5;28;01mif\u001b[39;00m \u001b[38;5;28mself\u001b[39m\u001b[38;5;241m.\u001b[39margs\u001b[38;5;241m.\u001b[39mpast_index \u001b[38;5;241m>\u001b[39m\u001b[38;5;241m=\u001b[39m \u001b[38;5;241m0\u001b[39m:\n",
      "File \u001b[0;32m~/.conda/envs/pytorch/lib/python3.11/site-packages/torch/nn/modules/module.py:1501\u001b[0m, in \u001b[0;36mModule._call_impl\u001b[0;34m(self, *args, **kwargs)\u001b[0m\n\u001b[1;32m   1496\u001b[0m \u001b[38;5;66;03m# If we don't have any hooks, we want to skip the rest of the logic in\u001b[39;00m\n\u001b[1;32m   1497\u001b[0m \u001b[38;5;66;03m# this function, and just call forward.\u001b[39;00m\n\u001b[1;32m   1498\u001b[0m \u001b[38;5;28;01mif\u001b[39;00m \u001b[38;5;129;01mnot\u001b[39;00m (\u001b[38;5;28mself\u001b[39m\u001b[38;5;241m.\u001b[39m_backward_hooks \u001b[38;5;129;01mor\u001b[39;00m \u001b[38;5;28mself\u001b[39m\u001b[38;5;241m.\u001b[39m_backward_pre_hooks \u001b[38;5;129;01mor\u001b[39;00m \u001b[38;5;28mself\u001b[39m\u001b[38;5;241m.\u001b[39m_forward_hooks \u001b[38;5;129;01mor\u001b[39;00m \u001b[38;5;28mself\u001b[39m\u001b[38;5;241m.\u001b[39m_forward_pre_hooks\n\u001b[1;32m   1499\u001b[0m         \u001b[38;5;129;01mor\u001b[39;00m _global_backward_pre_hooks \u001b[38;5;129;01mor\u001b[39;00m _global_backward_hooks\n\u001b[1;32m   1500\u001b[0m         \u001b[38;5;129;01mor\u001b[39;00m _global_forward_hooks \u001b[38;5;129;01mor\u001b[39;00m _global_forward_pre_hooks):\n\u001b[0;32m-> 1501\u001b[0m     \u001b[38;5;28;01mreturn\u001b[39;00m forward_call(\u001b[38;5;241m*\u001b[39margs, \u001b[38;5;241m*\u001b[39m\u001b[38;5;241m*\u001b[39mkwargs)\n\u001b[1;32m   1502\u001b[0m \u001b[38;5;66;03m# Do not call functions when jit is used\u001b[39;00m\n\u001b[1;32m   1503\u001b[0m full_backward_hooks, non_full_backward_hooks \u001b[38;5;241m=\u001b[39m [], []\n",
      "File \u001b[0;32m~/.conda/envs/pytorch/lib/python3.11/site-packages/accelerate/utils/operations.py:636\u001b[0m, in \u001b[0;36mconvert_outputs_to_fp32.<locals>.forward\u001b[0;34m(*args, **kwargs)\u001b[0m\n\u001b[1;32m    635\u001b[0m \u001b[38;5;28;01mdef\u001b[39;00m \u001b[38;5;21mforward\u001b[39m(\u001b[38;5;241m*\u001b[39margs, \u001b[38;5;241m*\u001b[39m\u001b[38;5;241m*\u001b[39mkwargs):\n\u001b[0;32m--> 636\u001b[0m     \u001b[38;5;28;01mreturn\u001b[39;00m model_forward(\u001b[38;5;241m*\u001b[39margs, \u001b[38;5;241m*\u001b[39m\u001b[38;5;241m*\u001b[39mkwargs)\n",
      "File \u001b[0;32m~/.conda/envs/pytorch/lib/python3.11/site-packages/accelerate/utils/operations.py:624\u001b[0m, in \u001b[0;36mConvertOutputsToFp32.__call__\u001b[0;34m(self, *args, **kwargs)\u001b[0m\n\u001b[1;32m    623\u001b[0m \u001b[38;5;28;01mdef\u001b[39;00m \u001b[38;5;21m__call__\u001b[39m(\u001b[38;5;28mself\u001b[39m, \u001b[38;5;241m*\u001b[39margs, \u001b[38;5;241m*\u001b[39m\u001b[38;5;241m*\u001b[39mkwargs):\n\u001b[0;32m--> 624\u001b[0m     \u001b[38;5;28;01mreturn\u001b[39;00m convert_to_fp32(\u001b[38;5;28mself\u001b[39m\u001b[38;5;241m.\u001b[39mmodel_forward(\u001b[38;5;241m*\u001b[39margs, \u001b[38;5;241m*\u001b[39m\u001b[38;5;241m*\u001b[39mkwargs))\n",
      "File \u001b[0;32m~/.conda/envs/pytorch/lib/python3.11/site-packages/torch/amp/autocast_mode.py:14\u001b[0m, in \u001b[0;36mautocast_decorator.<locals>.decorate_autocast\u001b[0;34m(*args, **kwargs)\u001b[0m\n\u001b[1;32m     11\u001b[0m \u001b[38;5;129m@functools\u001b[39m\u001b[38;5;241m.\u001b[39mwraps(func)\n\u001b[1;32m     12\u001b[0m \u001b[38;5;28;01mdef\u001b[39;00m \u001b[38;5;21mdecorate_autocast\u001b[39m(\u001b[38;5;241m*\u001b[39margs, \u001b[38;5;241m*\u001b[39m\u001b[38;5;241m*\u001b[39mkwargs):\n\u001b[1;32m     13\u001b[0m     \u001b[38;5;28;01mwith\u001b[39;00m autocast_instance:\n\u001b[0;32m---> 14\u001b[0m         \u001b[38;5;28;01mreturn\u001b[39;00m func(\u001b[38;5;241m*\u001b[39margs, \u001b[38;5;241m*\u001b[39m\u001b[38;5;241m*\u001b[39mkwargs)\n",
      "File \u001b[0;32m~/.conda/envs/pytorch/lib/python3.11/site-packages/accelerate/utils/operations.py:636\u001b[0m, in \u001b[0;36mconvert_outputs_to_fp32.<locals>.forward\u001b[0;34m(*args, **kwargs)\u001b[0m\n\u001b[1;32m    635\u001b[0m \u001b[38;5;28;01mdef\u001b[39;00m \u001b[38;5;21mforward\u001b[39m(\u001b[38;5;241m*\u001b[39margs, \u001b[38;5;241m*\u001b[39m\u001b[38;5;241m*\u001b[39mkwargs):\n\u001b[0;32m--> 636\u001b[0m     \u001b[38;5;28;01mreturn\u001b[39;00m model_forward(\u001b[38;5;241m*\u001b[39margs, \u001b[38;5;241m*\u001b[39m\u001b[38;5;241m*\u001b[39mkwargs)\n",
      "File \u001b[0;32m~/.conda/envs/pytorch/lib/python3.11/site-packages/accelerate/utils/operations.py:624\u001b[0m, in \u001b[0;36mConvertOutputsToFp32.__call__\u001b[0;34m(self, *args, **kwargs)\u001b[0m\n\u001b[1;32m    623\u001b[0m \u001b[38;5;28;01mdef\u001b[39;00m \u001b[38;5;21m__call__\u001b[39m(\u001b[38;5;28mself\u001b[39m, \u001b[38;5;241m*\u001b[39margs, \u001b[38;5;241m*\u001b[39m\u001b[38;5;241m*\u001b[39mkwargs):\n\u001b[0;32m--> 624\u001b[0m     \u001b[38;5;28;01mreturn\u001b[39;00m convert_to_fp32(\u001b[38;5;28mself\u001b[39m\u001b[38;5;241m.\u001b[39mmodel_forward(\u001b[38;5;241m*\u001b[39margs, \u001b[38;5;241m*\u001b[39m\u001b[38;5;241m*\u001b[39mkwargs))\n",
      "File \u001b[0;32m~/.conda/envs/pytorch/lib/python3.11/site-packages/torch/amp/autocast_mode.py:14\u001b[0m, in \u001b[0;36mautocast_decorator.<locals>.decorate_autocast\u001b[0;34m(*args, **kwargs)\u001b[0m\n\u001b[1;32m     11\u001b[0m \u001b[38;5;129m@functools\u001b[39m\u001b[38;5;241m.\u001b[39mwraps(func)\n\u001b[1;32m     12\u001b[0m \u001b[38;5;28;01mdef\u001b[39;00m \u001b[38;5;21mdecorate_autocast\u001b[39m(\u001b[38;5;241m*\u001b[39margs, \u001b[38;5;241m*\u001b[39m\u001b[38;5;241m*\u001b[39mkwargs):\n\u001b[1;32m     13\u001b[0m     \u001b[38;5;28;01mwith\u001b[39;00m autocast_instance:\n\u001b[0;32m---> 14\u001b[0m         \u001b[38;5;28;01mreturn\u001b[39;00m func(\u001b[38;5;241m*\u001b[39margs, \u001b[38;5;241m*\u001b[39m\u001b[38;5;241m*\u001b[39mkwargs)\n",
      "File \u001b[0;32m~/.conda/envs/pytorch/lib/python3.11/site-packages/accelerate/utils/operations.py:636\u001b[0m, in \u001b[0;36mconvert_outputs_to_fp32.<locals>.forward\u001b[0;34m(*args, **kwargs)\u001b[0m\n\u001b[1;32m    635\u001b[0m \u001b[38;5;28;01mdef\u001b[39;00m \u001b[38;5;21mforward\u001b[39m(\u001b[38;5;241m*\u001b[39margs, \u001b[38;5;241m*\u001b[39m\u001b[38;5;241m*\u001b[39mkwargs):\n\u001b[0;32m--> 636\u001b[0m     \u001b[38;5;28;01mreturn\u001b[39;00m model_forward(\u001b[38;5;241m*\u001b[39margs, \u001b[38;5;241m*\u001b[39m\u001b[38;5;241m*\u001b[39mkwargs)\n",
      "File \u001b[0;32m~/.conda/envs/pytorch/lib/python3.11/site-packages/accelerate/utils/operations.py:624\u001b[0m, in \u001b[0;36mConvertOutputsToFp32.__call__\u001b[0;34m(self, *args, **kwargs)\u001b[0m\n\u001b[1;32m    623\u001b[0m \u001b[38;5;28;01mdef\u001b[39;00m \u001b[38;5;21m__call__\u001b[39m(\u001b[38;5;28mself\u001b[39m, \u001b[38;5;241m*\u001b[39margs, \u001b[38;5;241m*\u001b[39m\u001b[38;5;241m*\u001b[39mkwargs):\n\u001b[0;32m--> 624\u001b[0m     \u001b[38;5;28;01mreturn\u001b[39;00m convert_to_fp32(\u001b[38;5;28mself\u001b[39m\u001b[38;5;241m.\u001b[39mmodel_forward(\u001b[38;5;241m*\u001b[39margs, \u001b[38;5;241m*\u001b[39m\u001b[38;5;241m*\u001b[39mkwargs))\n",
      "File \u001b[0;32m~/.conda/envs/pytorch/lib/python3.11/site-packages/torch/amp/autocast_mode.py:14\u001b[0m, in \u001b[0;36mautocast_decorator.<locals>.decorate_autocast\u001b[0;34m(*args, **kwargs)\u001b[0m\n\u001b[1;32m     11\u001b[0m \u001b[38;5;129m@functools\u001b[39m\u001b[38;5;241m.\u001b[39mwraps(func)\n\u001b[1;32m     12\u001b[0m \u001b[38;5;28;01mdef\u001b[39;00m \u001b[38;5;21mdecorate_autocast\u001b[39m(\u001b[38;5;241m*\u001b[39margs, \u001b[38;5;241m*\u001b[39m\u001b[38;5;241m*\u001b[39mkwargs):\n\u001b[1;32m     13\u001b[0m     \u001b[38;5;28;01mwith\u001b[39;00m autocast_instance:\n\u001b[0;32m---> 14\u001b[0m         \u001b[38;5;28;01mreturn\u001b[39;00m func(\u001b[38;5;241m*\u001b[39margs, \u001b[38;5;241m*\u001b[39m\u001b[38;5;241m*\u001b[39mkwargs)\n",
      "File \u001b[0;32m~/.conda/envs/pytorch/lib/python3.11/site-packages/transformers/models/llama/modeling_llama.py:1038\u001b[0m, in \u001b[0;36mLlamaForCausalLM.forward\u001b[0;34m(self, input_ids, attention_mask, position_ids, past_key_values, inputs_embeds, labels, use_cache, output_attentions, output_hidden_states, return_dict)\u001b[0m\n\u001b[1;32m   1035\u001b[0m return_dict \u001b[38;5;241m=\u001b[39m return_dict \u001b[38;5;28;01mif\u001b[39;00m return_dict \u001b[38;5;129;01mis\u001b[39;00m \u001b[38;5;129;01mnot\u001b[39;00m \u001b[38;5;28;01mNone\u001b[39;00m \u001b[38;5;28;01melse\u001b[39;00m \u001b[38;5;28mself\u001b[39m\u001b[38;5;241m.\u001b[39mconfig\u001b[38;5;241m.\u001b[39muse_return_dict\n\u001b[1;32m   1037\u001b[0m \u001b[38;5;66;03m# decoder outputs consists of (dec_features, layer_state, dec_hidden, dec_attn)\u001b[39;00m\n\u001b[0;32m-> 1038\u001b[0m outputs \u001b[38;5;241m=\u001b[39m \u001b[38;5;28mself\u001b[39m\u001b[38;5;241m.\u001b[39mmodel(\n\u001b[1;32m   1039\u001b[0m     input_ids\u001b[38;5;241m=\u001b[39minput_ids,\n\u001b[1;32m   1040\u001b[0m     attention_mask\u001b[38;5;241m=\u001b[39mattention_mask,\n\u001b[1;32m   1041\u001b[0m     position_ids\u001b[38;5;241m=\u001b[39mposition_ids,\n\u001b[1;32m   1042\u001b[0m     past_key_values\u001b[38;5;241m=\u001b[39mpast_key_values,\n\u001b[1;32m   1043\u001b[0m     inputs_embeds\u001b[38;5;241m=\u001b[39minputs_embeds,\n\u001b[1;32m   1044\u001b[0m     use_cache\u001b[38;5;241m=\u001b[39muse_cache,\n\u001b[1;32m   1045\u001b[0m     output_attentions\u001b[38;5;241m=\u001b[39moutput_attentions,\n\u001b[1;32m   1046\u001b[0m     output_hidden_states\u001b[38;5;241m=\u001b[39moutput_hidden_states,\n\u001b[1;32m   1047\u001b[0m     return_dict\u001b[38;5;241m=\u001b[39mreturn_dict,\n\u001b[1;32m   1048\u001b[0m )\n\u001b[1;32m   1050\u001b[0m hidden_states \u001b[38;5;241m=\u001b[39m outputs[\u001b[38;5;241m0\u001b[39m]\n\u001b[1;32m   1051\u001b[0m \u001b[38;5;28;01mif\u001b[39;00m \u001b[38;5;28mself\u001b[39m\u001b[38;5;241m.\u001b[39mconfig\u001b[38;5;241m.\u001b[39mpretraining_tp \u001b[38;5;241m>\u001b[39m \u001b[38;5;241m1\u001b[39m:\n",
      "File \u001b[0;32m~/.conda/envs/pytorch/lib/python3.11/site-packages/torch/nn/modules/module.py:1501\u001b[0m, in \u001b[0;36mModule._call_impl\u001b[0;34m(self, *args, **kwargs)\u001b[0m\n\u001b[1;32m   1496\u001b[0m \u001b[38;5;66;03m# If we don't have any hooks, we want to skip the rest of the logic in\u001b[39;00m\n\u001b[1;32m   1497\u001b[0m \u001b[38;5;66;03m# this function, and just call forward.\u001b[39;00m\n\u001b[1;32m   1498\u001b[0m \u001b[38;5;28;01mif\u001b[39;00m \u001b[38;5;129;01mnot\u001b[39;00m (\u001b[38;5;28mself\u001b[39m\u001b[38;5;241m.\u001b[39m_backward_hooks \u001b[38;5;129;01mor\u001b[39;00m \u001b[38;5;28mself\u001b[39m\u001b[38;5;241m.\u001b[39m_backward_pre_hooks \u001b[38;5;129;01mor\u001b[39;00m \u001b[38;5;28mself\u001b[39m\u001b[38;5;241m.\u001b[39m_forward_hooks \u001b[38;5;129;01mor\u001b[39;00m \u001b[38;5;28mself\u001b[39m\u001b[38;5;241m.\u001b[39m_forward_pre_hooks\n\u001b[1;32m   1499\u001b[0m         \u001b[38;5;129;01mor\u001b[39;00m _global_backward_pre_hooks \u001b[38;5;129;01mor\u001b[39;00m _global_backward_hooks\n\u001b[1;32m   1500\u001b[0m         \u001b[38;5;129;01mor\u001b[39;00m _global_forward_hooks \u001b[38;5;129;01mor\u001b[39;00m _global_forward_pre_hooks):\n\u001b[0;32m-> 1501\u001b[0m     \u001b[38;5;28;01mreturn\u001b[39;00m forward_call(\u001b[38;5;241m*\u001b[39margs, \u001b[38;5;241m*\u001b[39m\u001b[38;5;241m*\u001b[39mkwargs)\n\u001b[1;32m   1502\u001b[0m \u001b[38;5;66;03m# Do not call functions when jit is used\u001b[39;00m\n\u001b[1;32m   1503\u001b[0m full_backward_hooks, non_full_backward_hooks \u001b[38;5;241m=\u001b[39m [], []\n",
      "File \u001b[0;32m~/.conda/envs/pytorch/lib/python3.11/site-packages/transformers/models/llama/modeling_llama.py:925\u001b[0m, in \u001b[0;36mLlamaModel.forward\u001b[0;34m(self, input_ids, attention_mask, position_ids, past_key_values, inputs_embeds, use_cache, output_attentions, output_hidden_states, return_dict)\u001b[0m\n\u001b[1;32m    921\u001b[0m     layer_outputs \u001b[38;5;241m=\u001b[39m torch\u001b[38;5;241m.\u001b[39mutils\u001b[38;5;241m.\u001b[39mcheckpoint\u001b[38;5;241m.\u001b[39mcheckpoint(\n\u001b[1;32m    922\u001b[0m         create_custom_forward(decoder_layer), hidden_states, attention_mask, position_ids\n\u001b[1;32m    923\u001b[0m     )\n\u001b[1;32m    924\u001b[0m \u001b[38;5;28;01melse\u001b[39;00m:\n\u001b[0;32m--> 925\u001b[0m     layer_outputs \u001b[38;5;241m=\u001b[39m decoder_layer(\n\u001b[1;32m    926\u001b[0m         hidden_states,\n\u001b[1;32m    927\u001b[0m         attention_mask\u001b[38;5;241m=\u001b[39mattention_mask,\n\u001b[1;32m    928\u001b[0m         position_ids\u001b[38;5;241m=\u001b[39mposition_ids,\n\u001b[1;32m    929\u001b[0m         past_key_value\u001b[38;5;241m=\u001b[39mpast_key_value,\n\u001b[1;32m    930\u001b[0m         output_attentions\u001b[38;5;241m=\u001b[39moutput_attentions,\n\u001b[1;32m    931\u001b[0m         use_cache\u001b[38;5;241m=\u001b[39muse_cache,\n\u001b[1;32m    932\u001b[0m         padding_mask\u001b[38;5;241m=\u001b[39mpadding_mask,\n\u001b[1;32m    933\u001b[0m     )\n\u001b[1;32m    935\u001b[0m hidden_states \u001b[38;5;241m=\u001b[39m layer_outputs[\u001b[38;5;241m0\u001b[39m]\n\u001b[1;32m    937\u001b[0m \u001b[38;5;28;01mif\u001b[39;00m use_cache:\n",
      "File \u001b[0;32m~/.conda/envs/pytorch/lib/python3.11/site-packages/torch/nn/modules/module.py:1501\u001b[0m, in \u001b[0;36mModule._call_impl\u001b[0;34m(self, *args, **kwargs)\u001b[0m\n\u001b[1;32m   1496\u001b[0m \u001b[38;5;66;03m# If we don't have any hooks, we want to skip the rest of the logic in\u001b[39;00m\n\u001b[1;32m   1497\u001b[0m \u001b[38;5;66;03m# this function, and just call forward.\u001b[39;00m\n\u001b[1;32m   1498\u001b[0m \u001b[38;5;28;01mif\u001b[39;00m \u001b[38;5;129;01mnot\u001b[39;00m (\u001b[38;5;28mself\u001b[39m\u001b[38;5;241m.\u001b[39m_backward_hooks \u001b[38;5;129;01mor\u001b[39;00m \u001b[38;5;28mself\u001b[39m\u001b[38;5;241m.\u001b[39m_backward_pre_hooks \u001b[38;5;129;01mor\u001b[39;00m \u001b[38;5;28mself\u001b[39m\u001b[38;5;241m.\u001b[39m_forward_hooks \u001b[38;5;129;01mor\u001b[39;00m \u001b[38;5;28mself\u001b[39m\u001b[38;5;241m.\u001b[39m_forward_pre_hooks\n\u001b[1;32m   1499\u001b[0m         \u001b[38;5;129;01mor\u001b[39;00m _global_backward_pre_hooks \u001b[38;5;129;01mor\u001b[39;00m _global_backward_hooks\n\u001b[1;32m   1500\u001b[0m         \u001b[38;5;129;01mor\u001b[39;00m _global_forward_hooks \u001b[38;5;129;01mor\u001b[39;00m _global_forward_pre_hooks):\n\u001b[0;32m-> 1501\u001b[0m     \u001b[38;5;28;01mreturn\u001b[39;00m forward_call(\u001b[38;5;241m*\u001b[39margs, \u001b[38;5;241m*\u001b[39m\u001b[38;5;241m*\u001b[39mkwargs)\n\u001b[1;32m   1502\u001b[0m \u001b[38;5;66;03m# Do not call functions when jit is used\u001b[39;00m\n\u001b[1;32m   1503\u001b[0m full_backward_hooks, non_full_backward_hooks \u001b[38;5;241m=\u001b[39m [], []\n",
      "File \u001b[0;32m~/.conda/envs/pytorch/lib/python3.11/site-packages/transformers/models/llama/modeling_llama.py:649\u001b[0m, in \u001b[0;36mLlamaDecoderLayer.forward\u001b[0;34m(self, hidden_states, attention_mask, position_ids, past_key_value, output_attentions, use_cache, padding_mask)\u001b[0m\n\u001b[1;32m    647\u001b[0m residual \u001b[38;5;241m=\u001b[39m hidden_states\n\u001b[1;32m    648\u001b[0m hidden_states \u001b[38;5;241m=\u001b[39m \u001b[38;5;28mself\u001b[39m\u001b[38;5;241m.\u001b[39mpost_attention_layernorm(hidden_states)\n\u001b[0;32m--> 649\u001b[0m hidden_states \u001b[38;5;241m=\u001b[39m \u001b[38;5;28mself\u001b[39m\u001b[38;5;241m.\u001b[39mmlp(hidden_states)\n\u001b[1;32m    650\u001b[0m hidden_states \u001b[38;5;241m=\u001b[39m residual \u001b[38;5;241m+\u001b[39m hidden_states\n\u001b[1;32m    652\u001b[0m outputs \u001b[38;5;241m=\u001b[39m (hidden_states,)\n",
      "File \u001b[0;32m~/.conda/envs/pytorch/lib/python3.11/site-packages/torch/nn/modules/module.py:1501\u001b[0m, in \u001b[0;36mModule._call_impl\u001b[0;34m(self, *args, **kwargs)\u001b[0m\n\u001b[1;32m   1496\u001b[0m \u001b[38;5;66;03m# If we don't have any hooks, we want to skip the rest of the logic in\u001b[39;00m\n\u001b[1;32m   1497\u001b[0m \u001b[38;5;66;03m# this function, and just call forward.\u001b[39;00m\n\u001b[1;32m   1498\u001b[0m \u001b[38;5;28;01mif\u001b[39;00m \u001b[38;5;129;01mnot\u001b[39;00m (\u001b[38;5;28mself\u001b[39m\u001b[38;5;241m.\u001b[39m_backward_hooks \u001b[38;5;129;01mor\u001b[39;00m \u001b[38;5;28mself\u001b[39m\u001b[38;5;241m.\u001b[39m_backward_pre_hooks \u001b[38;5;129;01mor\u001b[39;00m \u001b[38;5;28mself\u001b[39m\u001b[38;5;241m.\u001b[39m_forward_hooks \u001b[38;5;129;01mor\u001b[39;00m \u001b[38;5;28mself\u001b[39m\u001b[38;5;241m.\u001b[39m_forward_pre_hooks\n\u001b[1;32m   1499\u001b[0m         \u001b[38;5;129;01mor\u001b[39;00m _global_backward_pre_hooks \u001b[38;5;129;01mor\u001b[39;00m _global_backward_hooks\n\u001b[1;32m   1500\u001b[0m         \u001b[38;5;129;01mor\u001b[39;00m _global_forward_hooks \u001b[38;5;129;01mor\u001b[39;00m _global_forward_pre_hooks):\n\u001b[0;32m-> 1501\u001b[0m     \u001b[38;5;28;01mreturn\u001b[39;00m forward_call(\u001b[38;5;241m*\u001b[39margs, \u001b[38;5;241m*\u001b[39m\u001b[38;5;241m*\u001b[39mkwargs)\n\u001b[1;32m   1502\u001b[0m \u001b[38;5;66;03m# Do not call functions when jit is used\u001b[39;00m\n\u001b[1;32m   1503\u001b[0m full_backward_hooks, non_full_backward_hooks \u001b[38;5;241m=\u001b[39m [], []\n",
      "File \u001b[0;32m~/.conda/envs/pytorch/lib/python3.11/site-packages/transformers/models/llama/modeling_llama.py:247\u001b[0m, in \u001b[0;36mLlamaMLP.forward\u001b[0;34m(self, x)\u001b[0m\n\u001b[1;32m    245\u001b[0m     down_proj \u001b[38;5;241m=\u001b[39m \u001b[38;5;28msum\u001b[39m(down_proj)\n\u001b[1;32m    246\u001b[0m \u001b[38;5;28;01melse\u001b[39;00m:\n\u001b[0;32m--> 247\u001b[0m     down_proj \u001b[38;5;241m=\u001b[39m \u001b[38;5;28mself\u001b[39m\u001b[38;5;241m.\u001b[39mdown_proj(\u001b[38;5;28mself\u001b[39m\u001b[38;5;241m.\u001b[39mact_fn(\u001b[38;5;28mself\u001b[39m\u001b[38;5;241m.\u001b[39mgate_proj(x)) \u001b[38;5;241m*\u001b[39m \u001b[38;5;28mself\u001b[39m\u001b[38;5;241m.\u001b[39mup_proj(x))\n\u001b[1;32m    249\u001b[0m \u001b[38;5;28;01mreturn\u001b[39;00m down_proj\n",
      "File \u001b[0;32m~/.conda/envs/pytorch/lib/python3.11/site-packages/torch/nn/modules/module.py:1501\u001b[0m, in \u001b[0;36mModule._call_impl\u001b[0;34m(self, *args, **kwargs)\u001b[0m\n\u001b[1;32m   1496\u001b[0m \u001b[38;5;66;03m# If we don't have any hooks, we want to skip the rest of the logic in\u001b[39;00m\n\u001b[1;32m   1497\u001b[0m \u001b[38;5;66;03m# this function, and just call forward.\u001b[39;00m\n\u001b[1;32m   1498\u001b[0m \u001b[38;5;28;01mif\u001b[39;00m \u001b[38;5;129;01mnot\u001b[39;00m (\u001b[38;5;28mself\u001b[39m\u001b[38;5;241m.\u001b[39m_backward_hooks \u001b[38;5;129;01mor\u001b[39;00m \u001b[38;5;28mself\u001b[39m\u001b[38;5;241m.\u001b[39m_backward_pre_hooks \u001b[38;5;129;01mor\u001b[39;00m \u001b[38;5;28mself\u001b[39m\u001b[38;5;241m.\u001b[39m_forward_hooks \u001b[38;5;129;01mor\u001b[39;00m \u001b[38;5;28mself\u001b[39m\u001b[38;5;241m.\u001b[39m_forward_pre_hooks\n\u001b[1;32m   1499\u001b[0m         \u001b[38;5;129;01mor\u001b[39;00m _global_backward_pre_hooks \u001b[38;5;129;01mor\u001b[39;00m _global_backward_hooks\n\u001b[1;32m   1500\u001b[0m         \u001b[38;5;129;01mor\u001b[39;00m _global_forward_hooks \u001b[38;5;129;01mor\u001b[39;00m _global_forward_pre_hooks):\n\u001b[0;32m-> 1501\u001b[0m     \u001b[38;5;28;01mreturn\u001b[39;00m forward_call(\u001b[38;5;241m*\u001b[39margs, \u001b[38;5;241m*\u001b[39m\u001b[38;5;241m*\u001b[39mkwargs)\n\u001b[1;32m   1502\u001b[0m \u001b[38;5;66;03m# Do not call functions when jit is used\u001b[39;00m\n\u001b[1;32m   1503\u001b[0m full_backward_hooks, non_full_backward_hooks \u001b[38;5;241m=\u001b[39m [], []\n",
      "File \u001b[0;32m~/.conda/envs/pytorch/lib/python3.11/site-packages/torch/nn/modules/linear.py:114\u001b[0m, in \u001b[0;36mLinear.forward\u001b[0;34m(self, input)\u001b[0m\n\u001b[1;32m    113\u001b[0m \u001b[38;5;28;01mdef\u001b[39;00m \u001b[38;5;21mforward\u001b[39m(\u001b[38;5;28mself\u001b[39m, \u001b[38;5;28minput\u001b[39m: Tensor) \u001b[38;5;241m-\u001b[39m\u001b[38;5;241m>\u001b[39m Tensor:\n\u001b[0;32m--> 114\u001b[0m     \u001b[38;5;28;01mreturn\u001b[39;00m F\u001b[38;5;241m.\u001b[39mlinear(\u001b[38;5;28minput\u001b[39m, \u001b[38;5;28mself\u001b[39m\u001b[38;5;241m.\u001b[39mweight, \u001b[38;5;28mself\u001b[39m\u001b[38;5;241m.\u001b[39mbias)\n",
      "\u001b[0;31mKeyboardInterrupt\u001b[0m: "
     ]
    }
   ],
   "source": [
    "import accelerate\n",
    "\n",
    "training_args = TrainingArguments(\n",
    "    output_dir=\"llama_medqa_clm_lora\",\n",
    "    num_train_epochs=2,\n",
    "    save_total_limit=5,\n",
    "    per_device_train_batch_size=8,\n",
    "    warmup_steps=10,\n",
    "    weight_decay=0.0001,\n",
    "    dataloader_drop_last=True,\n",
    "    bf16=True,\n",
    "    logging_steps=10,\n",
    "    learning_rate=1e-5,\n",
    "    # gradient_checkpointing=True,\n",
    "    # gradient_checkpointing_kwargs={\"use_reentrant\": False},\n",
    "    remove_unused_columns=False,\n",
    "    #hub_model_id=\"smangrul/mistral_lora_clm_with_added_tokens\",\n",
    "    #push_to_hub=True,\n",
    "    #hub_private_repo=True,\n",
    ")\n",
    "trainer = Trainer(\n",
    "    model=model,\n",
    "    args=training_args,\n",
    "    train_dataset=processed_train['train'],\n",
    "    data_collator=default_data_collator,\n",
    ")\n",
    "# model.config.use_cache = False\n",
    "trainer.train()"
   ]
  },
  {
   "cell_type": "code",
   "execution_count": null,
   "metadata": {},
   "outputs": [],
   "source": [
    "trainer.save_model('./models')"
   ]
  }
 ],
 "metadata": {
  "kernelspec": {
   "display_name": "Python 3",
   "language": "python",
   "name": "python3"
  },
  "language_info": {
   "codemirror_mode": {
    "name": "ipython",
    "version": 3
   },
   "file_extension": ".py",
   "mimetype": "text/x-python",
   "name": "python",
   "nbconvert_exporter": "python",
   "pygments_lexer": "ipython3",
   "version": "3.12.0"
  }
 },
 "nbformat": 4,
 "nbformat_minor": 2
}
